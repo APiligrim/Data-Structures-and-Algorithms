{
 "cells": [
  {
   "cell_type": "markdown",
   "metadata": {},
   "source": [
    "# Problem \n",
    "Write an algorithm to determine if a number n is \"happy\".\n",
    "\n",
    "A happy number is a number defined by the following process: Starting with any positive integer, replace the number by the sum of the squares of its digits, and repeat the process until the number equals 1 (where it will stay), or it loops endlessly in a cycle which does not include 1. Those numbers for which this process ends in 1 are happy numbers.\n",
    "\n",
    "Return True if n is a happy number, and False if not.\n",
    "\n",
    "Example: \n",
    "\n",
    "Input: 19\n",
    "Output: true  \n",
    "#### Explanation:   \n",
    "12 + 92 = 82  \n",
    "82 + 22 = 68   \n",
    "62 + 82 = 100   \n",
    "12 + 02 + 02 = 1   "
   ]
  },
  {
   "cell_type": "code",
   "execution_count": 5,
   "metadata": {},
   "outputs": [
    {
     "name": "stdout",
     "output_type": "stream",
     "text": [
      "True\n"
     ]
    }
   ],
   "source": [
    "def happyNum(num):\n",
    "    #strategy: create a set that would store unique values  of ints\n",
    "    #when the value from the set enters the loop, if the value of that sum is not != 1 then \n",
    "    #it would go through the loop and square /sum the nums and add to the set or return False if the number already is in the set\n",
    "    old=set()\n",
    "    while num not in old:\n",
    "        old.add(num)\n",
    "        num = sum(int(i)**2 for i in str(num))\n",
    "    return num==1\n",
    "print(happyNum(19))"
   ]
  }
 ],
 "metadata": {
  "kernelspec": {
   "display_name": "Python 3",
   "language": "python",
   "name": "python3"
  },
  "language_info": {
   "codemirror_mode": {
    "name": "ipython",
    "version": 3
   },
   "file_extension": ".py",
   "mimetype": "text/x-python",
   "name": "python",
   "nbconvert_exporter": "python",
   "pygments_lexer": "ipython3",
   "version": "3.7.6"
  }
 },
 "nbformat": 4,
 "nbformat_minor": 4
}
