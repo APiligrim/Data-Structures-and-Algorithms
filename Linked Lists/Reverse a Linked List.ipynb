{
 "cells": [
  {
   "cell_type": "markdown",
   "metadata": {},
   "source": [
    "# Reverse a Linked List \n",
    "\n",
    "Input\n",
    "#### A->B->C->D->Null\n",
    "Output\n",
    "#### Null->D->c->_B->-A\n",
    "\n",
    "### Solution 1: Iteravely Time: O(n), O(1)\n",
    "Need a previous pointer, a curr pointer, and next pointer\n",
    "\n",
    " A->B->C->D->Null\n",
    " A<-B<-C<-D<-Null\n",
    " \n",
    "### Solution 2: Recursivly: TimeO(n), Space O(1)"
   ]
  },
  {
   "cell_type": "code",
   "execution_count": 13,
   "metadata": {},
   "outputs": [
    {
     "name": "stdout",
     "output_type": "stream",
     "text": [
      "A-->B-->C-->\n"
     ]
    }
   ],
   "source": [
    "class Node: \n",
    "    def __init__(self,node, next):\n",
    "        self.node= node\n",
    "        self.next=next\n",
    "        \n",
    "class LinkedList:\n",
    "    def __init__(self):\n",
    "        self.head =None\n",
    "    \n",
    "    #append items to the beginning of the LL O(1) for start and end\n",
    "    def append_start(self, data):\n",
    "        #the new node will be linked with the next node in the list\n",
    "        node= Node(data, self.head) #point to the head\n",
    "        #the head will point to the new node\n",
    "        self.head = node\n",
    "         \n",
    "    def reverse_iterative(self):\n",
    "        #initially the previous node is None \n",
    "        prev= None\n",
    "        cur=self.head \n",
    "        while cur:\n",
    "            #before we change the pointer, we first save that B POINTER to C\n",
    "            #because\n",
    "            next= cur.next \n",
    "\n",
    "            #the next node for \"B\" is pointed to \"A\" not \"C\"\n",
    "            cur.next = prev \n",
    "\n",
    "            #update the previous node to the current node\n",
    "            prev=cur\n",
    "\n",
    "            cur=next # flip the arrows to the oppostite direction \n",
    "\n",
    "        #now update the head to the \"D\" node \n",
    "        self.head= prev \n",
    "        \n",
    "    def reverse_recursive(self):\n",
    "        \n",
    "        def _reverse_recursive(cur, prev):\n",
    "            if not cur: \n",
    "                return prev\n",
    "            next = cur.next # store B to C\n",
    "            #update B to A not B to C\n",
    "            cur.next = prev \n",
    "            prev = cur\n",
    "            cur=next\n",
    "            return _reverse_recursive(cur, prev)\n",
    "        self.head = _reverse_recursive(cur=self.head, prev=None)\n",
    "        \n",
    "    def print(self):\n",
    "        if self.head is None: \n",
    "            print('Linked list is empty')\n",
    "            \n",
    "        itr= self.head\n",
    "        llstr=''\n",
    "        \n",
    "        while itr:\n",
    "            llstr+=str(itr.node) +'-->'\n",
    "            itr= itr.next\n",
    "        print(llstr)\n",
    "        \n",
    "if __name__=='__main__':\n",
    "    ll= LinkedList()\n",
    "    ll.append_start(\"C\")\n",
    "    ll.append_start(\"B\")\n",
    "    ll.append_start(\"A\")\n",
    "    ll.reverse_recursive()\n",
    "    ll.reverse_iterative()\n",
    "    ll.print()"
   ]
  },
  {
   "cell_type": "markdown",
   "metadata": {},
   "source": []
  }
 ],
 "metadata": {
  "kernelspec": {
   "display_name": "Python 3",
   "language": "python",
   "name": "python3"
  },
  "language_info": {
   "codemirror_mode": {
    "name": "ipython",
    "version": 3
   },
   "file_extension": ".py",
   "mimetype": "text/x-python",
   "name": "python",
   "nbconvert_exporter": "python",
   "pygments_lexer": "ipython3",
   "version": "3.7.6"
  }
 },
 "nbformat": 4,
 "nbformat_minor": 4
}
