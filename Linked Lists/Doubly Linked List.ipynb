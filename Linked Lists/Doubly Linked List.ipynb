{
 "cells": [
  {
   "cell_type": "markdown",
   "metadata": {},
   "source": [
    "# Doubly Linked List \n",
    "\n",
    "The same as the singly linked list except it has nodes pointing forward and to the previous node\n",
    "\n",
    "![](https://media.geeksforgeeks.org/wp-content/uploads/20200318143640/linked11.png)\n",
    "\n",
    "#### 1. We are not able to access a random singly linked list position in constant time\n",
    "#### 2. We have to traverse from the head to get the i-th node we want \n",
    "#### 3. The time complexity in the worse case will be O(n) where N is the length of the linked list \n",
    "\n",
    "for addtion and deletion it will be complicated since we need to take care of the \"prev\" node as well."
   ]
  },
  {
   "cell_type": "markdown",
   "metadata": {},
   "source": [
    "# Add Operation - Doubly Linked List \n",
    "\n",
    "##### Similar to the singly linked list, both the time and the space complexity of the add operation are O(1).\n",
    "\n",
    "Two steps: \n",
    "\n",
    "1. Link cur with prev and next, where next is the original next node of prev\n",
    "![](https://s3-lc-upload.s3.amazonaws.com/uploads/2018/04/28/screen-shot-2018-04-28-at-173045.png)\n",
    "\n",
    "2. Re-link the prev and next with cur\n",
    "![](https://s3-lc-upload.s3.amazonaws.com/uploads/2018/04/29/screen-shot-2018-04-28-at-173055.png)"
   ]
  },
  {
   "cell_type": "markdown",
   "metadata": {},
   "source": [
    "# Delete Operation - Doubly Linked List \n",
    "If we want to delete an exisiting node cur from the doubly linked list, we can simply link its previous node prev with tits next node next\n",
    "\n",
    "#### Unlinke the singly linked list, it is easy to get the previous node in constant time with the \"prev\" field\n",
    "\n",
    "Since we no longer need to traverse the linked list to get the previous node, both the time and space complexitiy are O(1)\n",
    "\n",
    "![](https://s3-lc-upload.s3.amazonaws.com/uploads/2018/04/17/screen-shot-2018-04-17-at-161130.png)\n",
    "\n",
    "Delete node 6\n",
    "so we link its previous node  23 and its next node 15\n",
    "![](https://s3-lc-upload.s3.amazonaws.com/uploads/2018/04/18/screen-shot-2018-04-18-at-142428.png)"
   ]
  },
  {
   "cell_type": "code",
   "execution_count": null,
   "metadata": {},
   "outputs": [],
   "source": []
  }
 ],
 "metadata": {
  "kernelspec": {
   "display_name": "Python 3",
   "language": "python",
   "name": "python3"
  },
  "language_info": {
   "codemirror_mode": {
    "name": "ipython",
    "version": 3
   },
   "file_extension": ".py",
   "mimetype": "text/x-python",
   "name": "python",
   "nbconvert_exporter": "python",
   "pygments_lexer": "ipython3",
   "version": "3.7.6"
  }
 },
 "nbformat": 4,
 "nbformat_minor": 4
}
