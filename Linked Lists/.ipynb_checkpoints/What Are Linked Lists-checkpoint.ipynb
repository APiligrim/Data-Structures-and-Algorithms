{
 "cells": [
  {
   "cell_type": "markdown",
   "metadata": {},
   "source": [
    "# What Are Linked Lists?\n",
    "\n",
    "Linked List is an element that links to the next element , next element, and next element. The end of the list is **NULL** . \n",
    "\n",
    "Unlike an array which we loop through, in a linked list we **traverse** through the list because we dont know when it will end.\n",
    "\n",
    "![](https://res.cloudinary.com/practicaldev/image/fetch/s--y3j6aJXJ--/c_limit%2Cf_auto%2Cfl_progressive%2Cq_auto%2Cw_880/https://res.cloudinary.com/practicaldev/image/fetch/s--_PwtVEkJ--/c_limit%252Cf_auto%252Cfl_progressive%252Cq_auto%252Cw_880/https://www.educative.io/api/edpresso/shot/5077575695073280/image/5192456339456000)\n",
    "\n",
    "### Big O of a Linked List vs. an Array \n",
    "![](https://i.ytimg.com/vi/z4pzb-hX2EI/maxresdefault.jpg)\n",
    "\n",
    "\n",
    "# What is a Pointer in a Linked List?\n",
    "\n",
    "### ***Pointer*** is a reference to an object.   \n",
    "\n",
    "### **Node** holds data\n",
    "\n",
    "### **next** references the next Node\n",
    "\n",
    "object1 = { a: true}   \n",
    "object2 = object1    \n",
    "\n",
    "- here object2 is referencing object1 but even if obj1 is deleted, object2 will still reference object1\n"
   ]
  },
  {
   "cell_type": "code",
   "execution_count": 1,
   "metadata": {},
   "outputs": [
    {
     "ename": "SyntaxError",
     "evalue": "invalid syntax (<ipython-input-1-b1428b195657>, line 8)",
     "output_type": "error",
     "traceback": [
      "\u001b[1;36m  File \u001b[1;32m\"<ipython-input-1-b1428b195657>\"\u001b[1;36m, line \u001b[1;32m8\u001b[0m\n\u001b[1;33m    next:None\u001b[0m\n\u001b[1;37m       ^\u001b[0m\n\u001b[1;31mSyntaxError\u001b[0m\u001b[1;31m:\u001b[0m invalid syntax\n"
     ]
    }
   ],
   "source": [
    "# myLinkedList = {\n",
    "#     head: {\n",
    "#         value: 10,\n",
    "#         next:{\n",
    "#             value: 5,\n",
    "#             next:{\n",
    "#                 value:11\n",
    "#                 next:None \n",
    "#             }\n",
    "#         }\n",
    "#     }\n",
    "# }\n",
    "class LinkedList(self, value,next=None):\n",
    "    self.value = value\n",
    "    self.next = next\n",
    "    \n",
    "#Create a single node \n",
    "first = Node(3)\n",
    "print(first.data)\n",
    "#myLinkedList = LinkedList(10)"
   ]
  },
  {
   "cell_type": "code",
   "execution_count": null,
   "metadata": {},
   "outputs": [],
   "source": []
  }
 ],
 "metadata": {
  "kernelspec": {
   "display_name": "Python 3",
   "language": "python",
   "name": "python3"
  },
  "language_info": {
   "codemirror_mode": {
    "name": "ipython",
    "version": 3
   },
   "file_extension": ".py",
   "mimetype": "text/x-python",
   "name": "python",
   "nbconvert_exporter": "python",
   "pygments_lexer": "ipython3",
   "version": "3.7.6"
  }
 },
 "nbformat": 4,
 "nbformat_minor": 4
}
