{
 "cells": [
  {
   "cell_type": "markdown",
   "metadata": {},
   "source": [
    "# What Are Linked Lists?\n",
    "\n",
    "Linked List is a data structure that represents a sequence of nodes.\n",
    "\n",
    "- In a **singly linked list** each node points to the next node in the linked list.The end of the list is **NULL** .\n",
    "- A **doubly linked list** gives each node pointers to both the next node and the previous node. \n",
    "\n",
    " \n",
    "\n",
    "Unlike an array which we loop through, in a linked list we **traverse** through the list because we dont know when it will end.\n",
    "\n",
    "![](https://res.cloudinary.com/practicaldev/image/fetch/s--y3j6aJXJ--/c_limit%2Cf_auto%2Cfl_progressive%2Cq_auto%2Cw_880/https://res.cloudinary.com/practicaldev/image/fetch/s--_PwtVEkJ--/c_limit%252Cf_auto%252Cfl_progressive%252Cq_auto%252Cw_880/https://www.educative.io/api/edpresso/shot/5077575695073280/image/5192456339456000)\n",
    "\n",
    "### Big O of a Linked List vs. an Array \n",
    "\n",
    "Unline an array, a linekd list does not provide **constant time** access to a particular \"index\" within the list. If you want to find a particular elelemt , you need to iterate through K elements.\n",
    "\n",
    "The benefit of a linked list is that you can addd and remove items form the **beginning** of the list in constant time.\n",
    "![](https://i.ytimg.com/vi/z4pzb-hX2EI/maxresdefault.jpg)\n",
    "\n",
    "\n",
    "# What is a Pointer in a Linked List?\n",
    "\n",
    "### ***Pointer*** is a reference to an object.   \n",
    "\n",
    "### **Node** holds data\n",
    "\n",
    "### **next** references the next Node\n",
    "\n",
    "object1 = { a: true}   \n",
    "object2 = object1    \n",
    "\n",
    "- here object2 is referencing object1 but even if obj1 is deleted, object2 will still reference object1\n"
   ]
  },
  {
   "cell_type": "code",
   "execution_count": 1,
   "metadata": {},
   "outputs": [
    {
     "name": "stdout",
     "output_type": "stream",
     "text": [
      "3\n"
     ]
    }
   ],
   "source": [
    "#a single node of a singly linked list\n",
    "class LinkedList:\n",
    "    #constructor\n",
    "    def __init__(self, value,next=None):\n",
    "        self.value = value\n",
    "        self.next = next\n",
    "    \n",
    "#Create a single node \n",
    "first = LinkedList(3)\n",
    "\n",
    "print(first.value)\n",
    "#myLinkedList = LinkedList(10)"
   ]
  },
  {
   "cell_type": "markdown",
   "metadata": {},
   "source": [
    "# Join nodes to get a linked list\n"
   ]
  },
  {
   "cell_type": "code",
   "execution_count": 3,
   "metadata": {},
   "outputs": [
    {
     "name": "stdout",
     "output_type": "stream",
     "text": [
      "3\n"
     ]
    }
   ],
   "source": [
    "# a single node of a singly linked list \n",
    "class Node: \n",
    "    def __init__(self, data = None, next=None):\n",
    "        self.data=data\n",
    "        self.next = next\n",
    "#A linked list class with a single head node\n",
    "class LinkedList:\n",
    "    def __init__(self):\n",
    "        self.head= None\n",
    "# Linked List with a single node \n",
    "LL= LinkedList()\n",
    "LL.head=Node(3)\n",
    "print(LL.head.data)"
   ]
  },
  {
   "cell_type": "markdown",
   "metadata": {},
   "source": [
    "# Add required methods to the LinkedList class\n",
    "\n",
    "We can add various linked list manipulation methods in our implementation such as insertion adn print methods."
   ]
  },
  {
   "cell_type": "code",
   "execution_count": 30,
   "metadata": {},
   "outputs": [
    {
     "ename": "TypeError",
     "evalue": "insert() takes 2 positional arguments but 3 were given",
     "output_type": "error",
     "traceback": [
      "\u001b[1;31m---------------------------------------------------------------------------\u001b[0m",
      "\u001b[1;31mTypeError\u001b[0m                                 Traceback (most recent call last)",
      "\u001b[1;32m<ipython-input-30-83bbfe6a14b6>\u001b[0m in \u001b[0;36m<module>\u001b[1;34m\u001b[0m\n\u001b[0;32m     67\u001b[0m \u001b[0mLL\u001b[0m\u001b[1;33m.\u001b[0m\u001b[0mappend\u001b[0m\u001b[1;33m(\u001b[0m\u001b[1;36m10\u001b[0m\u001b[1;33m)\u001b[0m\u001b[1;33m\u001b[0m\u001b[1;33m\u001b[0m\u001b[0m\n\u001b[0;32m     68\u001b[0m \u001b[0mLL\u001b[0m\u001b[1;33m.\u001b[0m\u001b[0mprepend\u001b[0m\u001b[1;33m(\u001b[0m\u001b[1;36m20\u001b[0m\u001b[1;33m)\u001b[0m\u001b[1;33m\u001b[0m\u001b[1;33m\u001b[0m\u001b[0m\n\u001b[1;32m---> 69\u001b[1;33m \u001b[0mLL\u001b[0m\u001b[1;33m.\u001b[0m\u001b[0minsert\u001b[0m\u001b[1;33m(\u001b[0m\u001b[1;36m3\u001b[0m\u001b[1;33m,\u001b[0m\u001b[1;36m99\u001b[0m\u001b[1;33m)\u001b[0m\u001b[1;33m\u001b[0m\u001b[1;33m\u001b[0m\u001b[0m\n\u001b[0m\u001b[0;32m     70\u001b[0m \u001b[0mLL\u001b[0m\u001b[1;33m.\u001b[0m\u001b[0mprintLL\u001b[0m\u001b[1;33m(\u001b[0m\u001b[1;33m)\u001b[0m\u001b[1;33m\u001b[0m\u001b[1;33m\u001b[0m\u001b[0m\n\u001b[0;32m     71\u001b[0m \u001b[1;31m#LinkedList.prepend(1)\u001b[0m\u001b[1;33m\u001b[0m\u001b[1;33m\u001b[0m\u001b[1;33m\u001b[0m\u001b[0m\n",
      "\u001b[1;31mTypeError\u001b[0m: insert() takes 2 positional arguments but 3 were given"
     ]
    }
   ],
   "source": [
    "class Node: \n",
    "    def __init__(self, data =None, next=None):\n",
    "        self.data = data\n",
    "        self.next = next\n",
    "#a Linked list class with 1 node\n",
    "class LinkedList:\n",
    "    def __init__(self):\n",
    "        self.head = None \n",
    "    \n",
    "    #insertion method for the linked list \n",
    "    def append(self, data):\n",
    "        newNode = Node(data)# node will hold data\n",
    "        if(self.head):\n",
    "            current= self.head\n",
    "            while(current.next):\n",
    "                current = current.next\n",
    "            current.next = newNode\n",
    "        else: \n",
    "            self.head = newNode\n",
    "            \n",
    "    # add elements to the beginning of the list \n",
    "    def prepend(self, data):\n",
    "        #if(self.head == None):\n",
    "            #return \n",
    "        newNode = Node(data)\n",
    "        newNode.next = self.head \n",
    "        self.head = newNode\n",
    "        return self.head\n",
    "    \n",
    "    def insert(index, data):\n",
    "        # put the new node \n",
    "        # change the linkage\n",
    "        newNode=Node(data)\n",
    "        i = 0 \n",
    "        current=self.head\n",
    "        if index>= self.length:\n",
    "            self.append(data) # we append the data to the end of the list\n",
    "            return \n",
    "        if index==0:\n",
    "            self.prepend(data) # append data to the front of the list\n",
    "            return \n",
    "        \n",
    "        while i <self.length:\n",
    "            if i == index-1:\n",
    "                current.next, newNode.next=newNode, current.next\n",
    "                self.length +=1\n",
    "                break \n",
    "            current = current.next\n",
    "            i+=1\n",
    "            \n",
    "        #current = self.head\n",
    "        #while(current):\n",
    "            #current.next = newNode\n",
    "            \n",
    "    # print method for the linked list\n",
    "    def printLL(self):\n",
    "        current = self.head\n",
    "        while(current):\n",
    "            print([current.data])\n",
    "            current=current.next\n",
    "            \n",
    "            \n",
    "##singly Linked List with insertion and print methods\n",
    "LL=LinkedList()\n",
    "LL.append(3)\n",
    "LL.append(4)\n",
    "LL.append(10)\n",
    "LL.prepend(20)\n",
    "LL.insert(3,99)\n",
    "LL.printLL()\n",
    "#LinkedList.prepend(1)"
   ]
  },
  {
   "cell_type": "code",
   "execution_count": null,
   "metadata": {},
   "outputs": [],
   "source": []
  },
  {
   "cell_type": "code",
   "execution_count": null,
   "metadata": {},
   "outputs": [],
   "source": []
  }
 ],
 "metadata": {
  "kernelspec": {
   "display_name": "Python 3",
   "language": "python",
   "name": "python3"
  },
  "language_info": {
   "codemirror_mode": {
    "name": "ipython",
    "version": 3
   },
   "file_extension": ".py",
   "mimetype": "text/x-python",
   "name": "python",
   "nbconvert_exporter": "python",
   "pygments_lexer": "ipython3",
   "version": "3.7.6"
  }
 },
 "nbformat": 4,
 "nbformat_minor": 4
}
