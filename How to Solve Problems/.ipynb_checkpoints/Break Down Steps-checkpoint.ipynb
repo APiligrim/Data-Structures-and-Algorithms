{
 "cells": [
  {
   "cell_type": "markdown",
   "metadata": {},
   "source": [
    "# Exercise 1 \n",
    "### Given 2 arrays create a function that lets a user know (true/false) whether these 2 arrays contain common items\n",
    "\n",
    "What we know:\n",
    "\n",
    "### Input: 2 arrays (assuming they are strings)\n",
    "### Output: boolean true or false\n",
    "\n",
    "Goal: What is more important? Time? Space? \n",
    "Something to consider: How large is the array going to be? \n",
    "\n",
    "Brute Force approach: create 2 nested loops and compare the items in the array\n"
   ]
  },
  {
   "cell_type": "code",
   "execution_count": 24,
   "metadata": {},
   "outputs": [
    {
     "data": {
      "text/plain": [
       "False"
      ]
     },
     "execution_count": 24,
     "metadata": {},
     "output_type": "execute_result"
    }
   ],
   "source": [
    "#brute force \n",
    "\n",
    "def matching_items(array1, array2):\n",
    "    sorted_arr=sorted(array1)\n",
    "    sorted_arr2=sorted(array2)\n",
    "\n",
    "    for i in range(0, len(sorted_arr)):\n",
    "        for j in range(0, len(sorted_arr2)):\n",
    "            if arr1[i]==arr2[j]:\n",
    "                return True\n",
    "            else:\n",
    "                return False\n",
    "\n",
    "arr1=['b','c','f']\n",
    "arr2=['c','d','a']\n",
    "\n",
    "matching_items(arr1,arr2)"
   ]
  },
  {
   "cell_type": "code",
   "execution_count": 21,
   "metadata": {},
   "outputs": [
    {
     "name": "stdout",
     "output_type": "stream",
     "text": [
      "b\n",
      "c\n",
      "f\n"
     ]
    }
   ],
   "source": []
  },
  {
   "cell_type": "code",
   "execution_count": null,
   "metadata": {},
   "outputs": [],
   "source": []
  }
 ],
 "metadata": {
  "kernelspec": {
   "display_name": "Python 3",
   "language": "python",
   "name": "python3"
  },
  "language_info": {
   "codemirror_mode": {
    "name": "ipython",
    "version": 3
   },
   "file_extension": ".py",
   "mimetype": "text/x-python",
   "name": "python",
   "nbconvert_exporter": "python",
   "pygments_lexer": "ipython3",
   "version": "3.7.6"
  }
 },
 "nbformat": 4,
 "nbformat_minor": 4
}
