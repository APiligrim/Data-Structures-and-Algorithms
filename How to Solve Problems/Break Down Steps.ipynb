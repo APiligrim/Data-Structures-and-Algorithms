{
 "cells": [
  {
   "cell_type": "markdown",
   "metadata": {},
   "source": [
    "# Exercise 1 \n",
    "### Given 2 arrays create a function that lets a user know (true/false) whether these 2 arrays contain common items\n",
    "\n",
    "What we know:\n",
    "\n",
    "### Input: 2 arrays (assuming they are strings)\n",
    "### Output: boolean true or false\n",
    "\n",
    "Goal: What is more important? Time? Space? \n",
    "Something to consider: How large is the array going to be? \n",
    "\n",
    "Brute Force approach: create 2 nested loops and compare the items in the array\n"
   ]
  },
  {
   "cell_type": "code",
   "execution_count": 27,
   "metadata": {},
   "outputs": [
    {
     "data": {
      "text/plain": [
       "'c'"
      ]
     },
     "execution_count": 27,
     "metadata": {},
     "output_type": "execute_result"
    }
   ],
   "source": [
    "#brute force \n",
    "\n",
    "def matching_items(array1, array2):\n",
    "    sorted_arr=sorted(array1)\n",
    "    sorted_arr2=sorted(array2)\n",
    "    \n",
    "    \n",
    "    for i in range(0, len(sorted_arr)):\n",
    "        for j in range(0, len(sorted_arr2)):\n",
    "            if arr1[i]==arr2[j]:\n",
    "                return arr1[i]\n",
    "    return False\n",
    "\n",
    "arr1=['b','c','f']\n",
    "arr2=['c','d','a']\n",
    "\n",
    "matching_items(arr1,arr2)"
   ]
  },
  {
   "cell_type": "code",
   "execution_count": 8,
   "metadata": {},
   "outputs": [
    {
     "ename": "KeyError",
     "evalue": "'c'",
     "output_type": "error",
     "traceback": [
      "\u001b[1;31m---------------------------------------------------------------------------\u001b[0m",
      "\u001b[1;31mKeyError\u001b[0m                                  Traceback (most recent call last)",
      "\u001b[1;32m<ipython-input-8-6f4a56fc8e07>\u001b[0m in \u001b[0;36m<module>\u001b[1;34m\u001b[0m\n\u001b[0;32m     15\u001b[0m \u001b[0marr2\u001b[0m\u001b[1;33m=\u001b[0m\u001b[1;33m[\u001b[0m\u001b[1;34m'c'\u001b[0m\u001b[1;33m,\u001b[0m\u001b[1;34m'd'\u001b[0m\u001b[1;33m,\u001b[0m\u001b[1;34m'a'\u001b[0m\u001b[1;33m]\u001b[0m\u001b[1;33m\u001b[0m\u001b[1;33m\u001b[0m\u001b[0m\n\u001b[0;32m     16\u001b[0m \u001b[1;33m\u001b[0m\u001b[0m\n\u001b[1;32m---> 17\u001b[1;33m \u001b[0mmatching_items2\u001b[0m\u001b[1;33m(\u001b[0m\u001b[0marr1\u001b[0m\u001b[1;33m,\u001b[0m \u001b[0marr2\u001b[0m\u001b[1;33m)\u001b[0m\u001b[1;33m\u001b[0m\u001b[1;33m\u001b[0m\u001b[0m\n\u001b[0m",
      "\u001b[1;32m<ipython-input-8-6f4a56fc8e07>\u001b[0m in \u001b[0;36mmatching_items2\u001b[1;34m(array1, array2)\u001b[0m\n\u001b[0;32m      6\u001b[0m             \u001b[1;32mreturn\u001b[0m \u001b[0marray1\u001b[0m\u001b[1;33m[\u001b[0m\u001b[0mletter\u001b[0m\u001b[1;33m]\u001b[0m\u001b[1;33m\u001b[0m\u001b[1;33m\u001b[0m\u001b[0m\n\u001b[0;32m      7\u001b[0m         \u001b[1;32melse\u001b[0m\u001b[1;33m:\u001b[0m\u001b[1;33m\u001b[0m\u001b[1;33m\u001b[0m\u001b[0m\n\u001b[1;32m----> 8\u001b[1;33m             \u001b[0mmap\u001b[0m\u001b[1;33m[\u001b[0m\u001b[0marray2\u001b[0m\u001b[1;33m[\u001b[0m\u001b[0mletter\u001b[0m\u001b[1;33m]\u001b[0m\u001b[1;33m]\u001b[0m \u001b[1;33m==\u001b[0m\u001b[0mletter\u001b[0m\u001b[1;33m\u001b[0m\u001b[1;33m\u001b[0m\u001b[0m\n\u001b[0m\u001b[0;32m      9\u001b[0m \u001b[1;31m#     for j in range(0,len(array2)):\u001b[0m\u001b[1;33m\u001b[0m\u001b[1;33m\u001b[0m\u001b[1;33m\u001b[0m\u001b[0m\n\u001b[0;32m     10\u001b[0m \u001b[1;31m#         if array2[j] in map:\u001b[0m\u001b[1;33m\u001b[0m\u001b[1;33m\u001b[0m\u001b[1;33m\u001b[0m\u001b[0m\n",
      "\u001b[1;31mKeyError\u001b[0m: 'c'"
     ]
    }
   ],
   "source": [
    "#hash map solution \n",
    "# def matching_items2(array1, array2):\n",
    "#     map ={}\n",
    "#     for letter in range(0,len(array1)):\n",
    "#         if array1[letter] in map: #check\n",
    "#             return array1[letter]\n",
    "#         else:\n",
    "#             map[array2[letter]] ==letter\n",
    "# #     for j in range(0,len(array2)):\n",
    "# #         if array2[j] in map:\n",
    "# #             return True\n",
    "#     return False\n",
    "\n",
    "# arr1=['b','c','f']\n",
    "# arr2=['c','d','a']\n",
    "\n",
    "# matching_items2(arr1, arr2)"
   ]
  },
  {
   "cell_type": "code",
   "execution_count": 9,
   "metadata": {},
   "outputs": [
    {
     "name": "stdout",
     "output_type": "stream",
     "text": [
      "1\n"
     ]
    }
   ],
   "source": [
    "def hashtable(mylist):\n",
    "  mydict = {}\n",
    "  for i in range(0,len(mylist)):\n",
    "    if mylist[i] in mydict:\n",
    "      return mylist[i]\n",
    "    else:\n",
    "      mydict[mylist[i]]=i\n",
    "  return 0\n",
    "  \n",
    "\n",
    "mylist = [2,1,1,2,3,4,5]\n",
    "x = hashtable(mylist)\n",
    "print(x)"
   ]
  },
  {
   "cell_type": "code",
   "execution_count": null,
   "metadata": {},
   "outputs": [],
   "source": []
  }
 ],
 "metadata": {
  "kernelspec": {
   "display_name": "Python 3",
   "language": "python",
   "name": "python3"
  },
  "language_info": {
   "codemirror_mode": {
    "name": "ipython",
    "version": 3
   },
   "file_extension": ".py",
   "mimetype": "text/x-python",
   "name": "python",
   "nbconvert_exporter": "python",
   "pygments_lexer": "ipython3",
   "version": "3.7.6"
  }
 },
 "nbformat": 4,
 "nbformat_minor": 4
}
