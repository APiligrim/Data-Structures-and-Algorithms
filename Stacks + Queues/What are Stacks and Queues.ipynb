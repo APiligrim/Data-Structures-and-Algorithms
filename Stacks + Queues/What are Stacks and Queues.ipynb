{
 "cells": [
  {
   "cell_type": "markdown",
   "metadata": {},
   "source": [
    "# Queue \n",
    "Is an ordered collection of items where the addition of new items happens at one end, called the \"rear\" and the removal of existing itmes occurs at the other end, the \"front.\"\n",
    "### First -in -first-out Data Structure (FIFO)\n",
    "Queue Methods: \n",
    "1. Queue() - creates a new queue that is empty. It needs no parameters and return s an empty queue\n",
    "2. Enqueue O(1) - (item) adds a new item to the rear of the queue. It needs the item and returns nothing.\n",
    "3. Dequeue O(1) - removes the front item from the  queue. It needs no paraeters and returns the item. The queue is modified. \n",
    "4. isEmpty() - tests to see whether the queue is empty. It needs no parameters and returns a boolean value.\n",
    "5. size() - returns the number of items in the queue. It needs no parameters and returns an integer.\n",
    "\n",
    "\n",
    "\n",
    "![](https://i.stack.imgur.com/l56sp.png)\n",
    "1: Enqueue: adds elements to the tail\n",
    "[](https://s3-lc-upload.s3.amazonaws.com/uploads/2018/05/02/screen-shot-2018-05-02-at-174355.png)\n",
    "\n",
    "[](https://s3-lc-upload.s3.amazonaws.com/uploads/2018/05/02/screen-shot-2018-05-02-at-172840.png)\n",
    " 2: Dequeue: removes the first element from the head\n",
    "[](https://s3-lc-upload.s3.amazonaws.com/uploads/2018/05/02/screen-shot-2018-05-02-at-172840.png)\n",
    "[](https://s3-lc-upload.s3.amazonaws.com/uploads/2018/05/03/screen-shot-2018-05-02-at-175409.png)"
   ]
  },
  {
   "cell_type": "markdown",
   "metadata": {},
   "source": [
    "# Implementation \n",
    "\n",
    "We can use a dynamic array and an index pointing to the head of the queue. \n",
    "\n",
    "#### The queue should support 2 operations: enqueue and dequeue.\n",
    "\n",
    "### Drawback\n",
    "\n",
    "If the length of the array is fixed/small, we could remove elements but it is harder to add more elements back into the queue so its inefficient.\n",
    "\n",
    "# Solution: Use Linked Lists to implement an Array"
   ]
  },
  {
   "cell_type": "code",
   "execution_count": 2,
   "metadata": {},
   "outputs": [
    {
     "data": {
      "text/plain": [
       "[134, 132, 131]"
      ]
     },
     "execution_count": 2,
     "metadata": {},
     "output_type": "execute_result"
    }
   ],
   "source": [
    "arr=[]\n",
    "arr.insert(0,131)\n",
    "arr.insert(0,132)\n",
    "arr.insert(0,134)\n",
    "arr"
   ]
  },
  {
   "cell_type": "code",
   "execution_count": 3,
   "metadata": {},
   "outputs": [
    {
     "data": {
      "text/plain": [
       "131"
      ]
     },
     "execution_count": 3,
     "metadata": {},
     "output_type": "execute_result"
    }
   ],
   "source": [
    "arr.pop()"
   ]
  },
  {
   "cell_type": "code",
   "execution_count": 9,
   "metadata": {},
   "outputs": [],
   "source": [
    "#better approach \n",
    "from collections import deque\n",
    "q= deque()"
   ]
  },
  {
   "cell_type": "code",
   "execution_count": 11,
   "metadata": {},
   "outputs": [
    {
     "data": {
      "text/plain": [
       "5"
      ]
     },
     "execution_count": 11,
     "metadata": {},
     "output_type": "execute_result"
    }
   ],
   "source": [
    "q.appendleft(4) #add x to the left side of the queue\n",
    "q.appendleft(5)\n",
    "q.pop()\n"
   ]
  },
  {
   "cell_type": "markdown",
   "metadata": {},
   "source": [
    "# Implement a Queue\n",
    "\n",
    "\n"
   ]
  },
  {
   "cell_type": "code",
   "execution_count": 18,
   "metadata": {},
   "outputs": [],
   "source": [
    "class Queue: \n",
    "    def __init__(self): \n",
    "        self.items =[]\n",
    "        \n",
    "    def isEmpty(self):\n",
    "        return self.items ==[]\n",
    "    def enqueue(self, item):\n",
    "        self.items.inset(0, item) #O(n) operation\n",
    "    def dequeue(self): \n",
    "        return self.items.pop()#O(1) operation \n",
    "    \n",
    "    def size(self): \n",
    "        return len(self.items)"
   ]
  },
  {
   "cell_type": "code",
   "execution_count": 13,
   "metadata": {},
   "outputs": [],
   "source": [
    "from collections import deque\n",
    "\n",
    "class Queue: \n",
    "    def __init__(self):\n",
    "        self.buffer= deque()\n",
    "    \n",
    "    #add an element to the queue ( like going to the line to buy a ticket)\n",
    "    def enqueue(self, val): \n",
    "        self.buffer.appendleft(val)\n",
    "    \n",
    "    #got the ticket and left the line\n",
    "    def dequeue(self):\n",
    "        return self.buffer.pop()\n",
    "    \n",
    "    def is_empty(self):\n",
    "        return len(self.buffer)==0 \n",
    "    \n",
    "    def size(self):\n",
    "        return len(self.buffer)"
   ]
  },
  {
   "cell_type": "markdown",
   "metadata": {},
   "source": [
    "# Circular Queue \n",
    "One of the benefits of the circular queue is that we can make use of the spaces in front of the queue. In a normal queue, once the queue becomes full, we cannot insert the next element even if there is a space in front of the queue. But using the circular queue, we can use the space to store new values.\n",
    "\n",
    "We can use a ***fixed-size array** and **two pointers** to indicate the starting position and the ending position. \n",
    "The goal is to **reuse the wasted storage**\n",
    "\n",
    "arr=[]\n",
    "1.put into the array 5 elements (ex: array is fixed to 5 lengths)\n",
    "\n",
    "2.Once the array is full, deque 1st element\n",
    "3. Enqueue 1 element to the tail (tail is now in the begining of the queue) \n",
    "\n",
    "When queue is full the head will move 1step faster?"
   ]
  },
  {
   "cell_type": "code",
   "execution_count": null,
   "metadata": {},
   "outputs": [],
   "source": [
    "\n"
   ]
  },
  {
   "cell_type": "markdown",
   "metadata": {},
   "source": [
    "# What Are Stacks (LIFO)\n",
    "\n",
    "Stack is an ordered collection of items where the addtion or remove of exisiting items always takes place at the same end.The stack operations are implemented as methods. \n",
    "\n",
    "Example of stacks is the URLS on a page that are placed on a stack. Current page is at the top of the stack , and the first page is at the base. IF you click back button, you begin to move in reverse order through the pages. \n",
    "\n",
    "### Stack of Books - Methods for Stacks \n",
    "    1. Lookup O(n)\n",
    "    2. Pop O(1) - removes the item from the stack. The stack is modified\n",
    "    3. Push O(1) - adds a new item to the top of the stack. It needs the item and returns nothing.\n",
    "    4. Peek O(1) - returns the top item from the stack but does not remove it. The stack is not modified.\n",
    "    \n",
    "### Other methods of Stacks: \n",
    "1. is_empty() - tests to see whether the stack is empty. It needs no parameters and returns a boolean value. \n",
    "2. size() - returns the number of items on the stack. It needs no parameters and returns an integer. \n",
    "\n",
    "### We could build a stack using Arrays or Linked Lists because: \n",
    "1. Arrays - have cash locality and easy to access by index\n",
    "2. Linked Lists - have extra memory due to pointers BUT the memory is more dynamic bc. the top is at the beginning instead of at the end, easier to add to beginning \n",
    "\n",
    "\n"
   ]
  },
  {
   "cell_type": "markdown",
   "metadata": {},
   "source": [
    "# List Implementation \n",
    "\n",
    "### Difference between the array is that we INSERT items not APPEND them. Pop also dosent work bc we have to specify the index!!!\n",
    "\n",
    "Arrays can store data very compactly and are more efficient for storing large amounts of data. Arrays are great for numerical operations; lists cannot directly handle math operations. For example, you can divide each element of an array by the same number with just one line of code"
   ]
  },
  {
   "cell_type": "code",
   "execution_count": 11,
   "metadata": {},
   "outputs": [
    {
     "name": "stdout",
     "output_type": "stream",
     "text": [
      "true\n"
     ]
    }
   ],
   "source": [
    "class Stack: \n",
    "    def __init__(self):\n",
    "        self.items=[]\n",
    "    def is_empty(self):\n",
    "        return self.items==[]\n",
    "    def push(self, item):\n",
    "        self.items.insert(0,item) #O(n) bc have to go through the list & find index\n",
    "    def pop(self):\n",
    "        return self.items.pop(0) #O(n)\n",
    "    def peek(self):\n",
    "        return self.items[0]\n",
    "    def size(self):\n",
    "        return len(self.items)\n",
    "s=Stack()\n",
    "s.push('hello')\n",
    "s.push('true')\n",
    "print(s.pop())"
   ]
  },
  {
   "cell_type": "markdown",
   "metadata": {},
   "source": [
    "# Array Implemenetation \n"
   ]
  },
  {
   "cell_type": "code",
   "execution_count": 15,
   "metadata": {},
   "outputs": [
    {
     "name": "stdout",
     "output_type": "stream",
     "text": [
      "dog\n",
      "4\n",
      "['dog', 'c', 'b', 'a']\n"
     ]
    }
   ],
   "source": [
    "class Stack: \n",
    "    def __init__(self):\n",
    "        self.items=[]\n",
    "    def is_empty(self):\n",
    "        return self.items==[]\n",
    "    def push(self, item):\n",
    "        self.items.append(item) # O(1)\n",
    "        \n",
    "    def pop(self):\n",
    "        return self.items.pop() # O(1)\n",
    "    \n",
    "    #return the top item from the stack\n",
    "    def peek(self):\n",
    "        return self.items[len(self.items)-1]\n",
    "    \n",
    "    def size(self):\n",
    "        return len(self.items)\n",
    "    \n",
    "    def rev_string(self):\n",
    "        return self.items[::-1]\n",
    "s = Stack()\n",
    "s.push('a')\n",
    "s.push('b')\n",
    "s.push('c')\n",
    "s.push('dog')\n",
    "#check the last pushed item \n",
    "print(s.peek())\n",
    "#remove the last pushed item \n",
    "#print(s.pop())\n",
    "print(s.size())\n",
    "print(s.rev_string())"
   ]
  },
  {
   "cell_type": "markdown",
   "metadata": {},
   "source": [
    "# Infix Prefix PostFix\n",
    "![](https://www.trccompsci.online/mediawiki/images/f/f3/Notation.png)\n",
    "![](https://runestone.academy/runestone/books/published/pythonds/_images/complexmove.png)\n",
    "\n"
   ]
  },
  {
   "cell_type": "markdown",
   "metadata": {},
   "source": [
    "# Prefix Conversion\n",
    "\n",
    "import Stack\n",
    "import string\n",
    "def infixToPostfix(string1):\n",
    "    prec={}\n",
    "    #give presedence to the operators\n",
    "    prec[\"*\"]=3\n",
    "    prec[\"/\"]=3\n",
    "    prec[\"+\"]=2\n",
    "    prec[\"-\"]=2\n",
    "    prec[\"(\"]=1\n",
    "    \n",
    "    opStack=Stack()\n",
    "    \n",
    "    #the list that will hold the post fix --- when operands go after the strings\n",
    "    postfixList=[]\n",
    "    \n",
    "    #split the string \n",
    "    tokenList=string1.split()\n",
    "    \n",
    "    for token in tokenList: \n",
    "        if token in string.ascii_uppercase:\n",
    "            \n",
    "            #add the letter to the postfix\n",
    "            postfixList.append(token)\n",
    "            \n",
    "            #if the opening parentheses comes first, push it to the stack\n",
    "        elif token=='(':\n",
    "            opStack.push(token)\n",
    "            \n",
    "            #if the closing parentheses is there, pop the expression until open parentheses is reached\n",
    "        elif token==')':\n",
    "            topToken= opStack.pop()\n",
    "            while topToken != '(':\n",
    "                postfixList.append(topToken)\n",
    "                topToken=opStack.pop()\n",
    "        else: \n",
    "            while (not opStack.isEmpty()) and (prec[opStack.peek()] >=prec[token]):\n",
    "                postfixList.append(opStack.pop())\n",
    "            opStack.push(token)\n",
    "    while not opStack.isEmpty():\n",
    "        postfixList.append(opStack.pop())\n",
    "    return \"\".join(postfixList)\n",
    "\n",
    "infixToPostfix(\"(A+B)*(C+D)\")"
   ]
  },
  {
   "cell_type": "markdown",
   "metadata": {},
   "source": [
    "# Postfix conversion \n",
    "1. Create an empty stack called operandStack \n",
    "2. Convert the string to a list by using the string method split \n",
    "3. Scan the token list from left to right. \n",
    "\n",
    "    If the token is an operand,convert it from a string to an integer and push the value onto the operandStack\n",
    "    \n",
    "    If the token is an operator , *./, +. or -,. it will need 2 oeprands. Pop the operandStack twice. The first pop is the second operand and the second pop is the first operand. Perform the arithmetic operation. Push the result back on the operand Stack.    \n",
    "    \n",
    "4. When the input has been completely processed, the result is on the stack. Pop the operandStack and return the value. "
   ]
  },
  {
   "cell_type": "code",
   "execution_count": 17,
   "metadata": {},
   "outputs": [
    {
     "ename": "IndexError",
     "evalue": "pop from empty list",
     "output_type": "error",
     "traceback": [
      "\u001b[1;31m---------------------------------------------------------------------------\u001b[0m",
      "\u001b[1;31mIndexError\u001b[0m                                Traceback (most recent call last)",
      "\u001b[1;32m<ipython-input-17-54300a83fdc5>\u001b[0m in \u001b[0;36m<module>\u001b[1;34m\u001b[0m\n\u001b[0;32m     27\u001b[0m         \u001b[1;32mreturn\u001b[0m \u001b[0mopt1\u001b[0m \u001b[1;33m-\u001b[0m \u001b[0mopt2\u001b[0m\u001b[1;33m\u001b[0m\u001b[1;33m\u001b[0m\u001b[0m\n\u001b[0;32m     28\u001b[0m \u001b[1;33m\u001b[0m\u001b[0m\n\u001b[1;32m---> 29\u001b[1;33m \u001b[0mpostfix\u001b[0m\u001b[1;33m(\u001b[0m\u001b[1;34m'78+32+/'\u001b[0m\u001b[1;33m)\u001b[0m\u001b[1;33m\u001b[0m\u001b[1;33m\u001b[0m\u001b[0m\n\u001b[0m",
      "\u001b[1;32m<ipython-input-17-54300a83fdc5>\u001b[0m in \u001b[0;36mpostfix\u001b[1;34m(input)\u001b[0m\n\u001b[0;32m     10\u001b[0m             \u001b[0mstack\u001b[0m\u001b[1;33m.\u001b[0m\u001b[0mappend\u001b[0m\u001b[1;33m(\u001b[0m\u001b[0mint\u001b[0m\u001b[1;33m(\u001b[0m\u001b[0mvalue\u001b[0m\u001b[1;33m)\u001b[0m\u001b[1;33m)\u001b[0m\u001b[1;33m\u001b[0m\u001b[1;33m\u001b[0m\u001b[0m\n\u001b[0;32m     11\u001b[0m         \u001b[1;32melse\u001b[0m\u001b[1;33m:\u001b[0m\u001b[1;33m\u001b[0m\u001b[1;33m\u001b[0m\u001b[0m\n\u001b[1;32m---> 12\u001b[1;33m             \u001b[0moperand2\u001b[0m\u001b[1;33m=\u001b[0m\u001b[0mstack\u001b[0m\u001b[1;33m.\u001b[0m\u001b[0mpop\u001b[0m\u001b[1;33m(\u001b[0m\u001b[1;33m)\u001b[0m\u001b[1;33m\u001b[0m\u001b[1;33m\u001b[0m\u001b[0m\n\u001b[0m\u001b[0;32m     13\u001b[0m             \u001b[0moperand1\u001b[0m\u001b[1;33m=\u001b[0m\u001b[0mstack\u001b[0m\u001b[1;33m.\u001b[0m\u001b[0mpop\u001b[0m\u001b[1;33m(\u001b[0m\u001b[1;33m)\u001b[0m\u001b[1;33m\u001b[0m\u001b[1;33m\u001b[0m\u001b[0m\n\u001b[0;32m     14\u001b[0m             \u001b[0mresult\u001b[0m \u001b[1;33m=\u001b[0m \u001b[0mdoMath\u001b[0m\u001b[1;33m(\u001b[0m\u001b[0mvalue\u001b[0m\u001b[1;33m,\u001b[0m \u001b[0moperand1\u001b[0m\u001b[1;33m,\u001b[0m \u001b[0moperand2\u001b[0m\u001b[1;33m)\u001b[0m\u001b[1;33m\u001b[0m\u001b[1;33m\u001b[0m\u001b[0m\n",
      "\u001b[1;31mIndexError\u001b[0m: pop from empty list"
     ]
    }
   ],
   "source": [
    "def postfix(input):\n",
    "    operandStack=[]\n",
    "    stack=[]\n",
    "    \n",
    "    split_list=input.split()\n",
    "    \n",
    "    for value in split_list: \n",
    "        if value in \"0123456789\":\n",
    "            stack.append(int(value))\n",
    "        else: \n",
    "            operand2=stack.pop()\n",
    "            operand1=stack.pop()\n",
    "            result = doMath(value, operand1, operand2)\n",
    "            \n",
    "            stack.append(result)\n",
    "    return stack.pop()\n",
    "\n",
    "def doMath(op, op1, op2):\n",
    "    if op==\"*\":\n",
    "        return op1 * op2\n",
    "    elif op == \"/\":\n",
    "        return op1 /opt2\n",
    "    elif op=='+':\n",
    "        return opt1 + opt2\n",
    "    else: \n",
    "        return opt1 - opt2\n",
    "    \n",
    "postfix('78+32+/')"
   ]
  },
  {
   "cell_type": "code",
   "execution_count": null,
   "metadata": {},
   "outputs": [],
   "source": []
  }
 ],
 "metadata": {
  "kernelspec": {
   "display_name": "Python 3",
   "language": "python",
   "name": "python3"
  },
  "language_info": {
   "codemirror_mode": {
    "name": "ipython",
    "version": 3
   },
   "file_extension": ".py",
   "mimetype": "text/x-python",
   "name": "python",
   "nbconvert_exporter": "python",
   "pygments_lexer": "ipython3",
   "version": "3.7.6"
  }
 },
 "nbformat": 4,
 "nbformat_minor": 4
}
