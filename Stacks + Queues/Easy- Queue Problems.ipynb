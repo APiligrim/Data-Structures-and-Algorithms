{
 "cells": [
  {
   "cell_type": "code",
   "execution_count": 1,
   "metadata": {},
   "outputs": [],
   "source": [
    "#hot potato problem \n",
    "\n",
    "def hotPotato(namelist, num):\n",
    "    simqueue=[]\n",
    "    \n",
    "    #add names to the queue\n",
    "    for name in namelist: \n",
    "        simqueue.enqueue(name)\n",
    "    #while the size of the gueue is greater than 1\n",
    "    # add the item we are removing to the back \n",
    "    while simqueue.size()>1:\n",
    "        #for the range from 0 to num (which will be 7)\n",
    "        for i in range(num):\n",
    "            simqueue.enqueue(simqueue.dequeue())\n",
    "        simqueue.dequeue()\n",
    "        \n",
    "    return simqueue.dequeue()"
   ]
  },
  {
   "cell_type": "markdown",
   "metadata": {},
   "source": [
    "# Moving Average\n",
    "\n",
    "Given a stream of integers and a window size, calculate the moving average of all integers in the sliding window.\n",
    "\n",
    "![](https://leetcode.com/problems/moving-average-from-data-stream/Figures/346/346_array.png)"
   ]
  },
  {
   "cell_type": "code",
   "execution_count": 13,
   "metadata": {},
   "outputs": [
    {
     "name": "stdout",
     "output_type": "stream",
     "text": [
      "[1]\n",
      "[1, 6]\n",
      "[1, 6, 6]\n",
      "[6, 6, 7]\n"
     ]
    },
    {
     "data": {
      "text/plain": [
       "6.333333333333333"
      ]
     },
     "execution_count": 13,
     "metadata": {},
     "output_type": "execute_result"
    }
   ],
   "source": [
    "class MovingAverage: \n",
    "    def __init__(self, size): \n",
    "        self.size= size\n",
    "        self.queue = []\n",
    "\n",
    "    def next(self, val):\n",
    "        size, queue = self.size, self.queue\n",
    "\n",
    "        queue.append(val)\n",
    "        #calculate the sum of the SLIDING WINDOW\n",
    "        window = sum(queue[-size:])\n",
    "        print(queue[-size:]) #THIS MEANS THE LAST 3 ELEMENTS IN THE queue ARRAY!\n",
    "        return window/min(len(queue), size)\n",
    "    \n",
    "test = MovingAverage(3)\n",
    "\n",
    "test.next(1)\n",
    "test.next(6)#1\n",
    "test.next(6)#2\n",
    "test.next(7)#3"
   ]
  },
  {
   "cell_type": "code",
   "execution_count": null,
   "metadata": {},
   "outputs": [],
   "source": []
  }
 ],
 "metadata": {
  "kernelspec": {
   "display_name": "Python 3",
   "language": "python",
   "name": "python3"
  },
  "language_info": {
   "codemirror_mode": {
    "name": "ipython",
    "version": 3
   },
   "file_extension": ".py",
   "mimetype": "text/x-python",
   "name": "python",
   "nbconvert_exporter": "python",
   "pygments_lexer": "ipython3",
   "version": "3.7.6"
  }
 },
 "nbformat": 4,
 "nbformat_minor": 4
}
