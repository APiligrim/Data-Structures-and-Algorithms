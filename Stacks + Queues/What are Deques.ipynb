{
 "cells": [
  {
   "cell_type": "markdown",
   "metadata": {},
   "source": [
    "# Deque\n",
    "\n",
    "A deque also known as a double-ended queue, is an ordered collectin of items similar to the queue. It has two ends, a front and a rear and the itewms remain positioned in the collection. What makes it different is the unrestictive nature of adding and removing items. New items can be added at either the front oir the rear. Exisitng items can be removed from either end. \n",
    "\n",
    "#### It provides all the capabilities of stacks and queues in a single data structure\n",
    "\n",
    "### It does not require a LIFO or a FIFO\n",
    "\n",
    "![](https://www.tutorialandexample.com/wp-content/uploads/2019/09/Deque-in-Java.png )"
   ]
  },
  {
   "cell_type": "markdown",
   "metadata": {},
   "source": [
    "# Methods\n",
    "\n",
    "- **Deque()** creates a new deque that is empty. It needs no parameters and returns an empty deque\n",
    "- **addFront(item)** - adds a new item to the front of the deque. It needs the item and returns nothing. \n",
    "- **addRear(item)** adds a new item to the rear of the deque . it needs no paramenters and returns the item. The deque is modified.\n",
    "- **removeFront()** - removes the front item from the deque\n",
    "- **removeRear()** - reemoves the rear item from the deque. \n",
    "- **isEmpty()** - tests to see whether the deque is empty. \n",
    "- **size()** - returns the number of items in the deque. "
   ]
  },
  {
   "cell_type": "code",
   "execution_count": 10,
   "metadata": {},
   "outputs": [
    {
     "name": "stdout",
     "output_type": "stream",
     "text": [
      "True\n",
      "None\n",
      "None\n"
     ]
    },
    {
     "data": {
      "text/plain": [
       "'cat'"
      ]
     },
     "execution_count": 10,
     "metadata": {},
     "output_type": "execute_result"
    }
   ],
   "source": [
    "class Deque: \n",
    "    def __init__(self): \n",
    "        self.items=[]\n",
    "        \n",
    "    def isEmpty(self): \n",
    "        return self.items==[]\n",
    "    \n",
    "    def addFront(self, item): \n",
    "        self.items.append(item) #O(1)\n",
    "    \n",
    "    def addRear(self, item): \n",
    "        self.items.insert(0, item) #O(n)\n",
    "        \n",
    "    def removeFront(self): \n",
    "        return self.items.pop()#O(1)\n",
    "    \n",
    "    def removeRear(self): \n",
    "        return self.items.pop(0)#remove the first element from the lsit ---O(n)\n",
    "    \n",
    "    def size(self): \n",
    "        return len(self.items)\n",
    "d = Deque()\n",
    "print(d.isEmpty())\n",
    "print(d.addRear(4))\n",
    "d.addRear('dog')\n",
    "print(d.addFront('cat'))\n",
    "d.removeFront()"
   ]
  },
  {
   "cell_type": "markdown",
   "metadata": {},
   "source": [
    "# Easy problem for Deque - Palindrome Checker\n",
    "\n",
    "Use a deque to check the characters of the string from the front and the back. If they are equal, remove them. otherwise update stillEqual to False"
   ]
  },
  {
   "cell_type": "code",
   "execution_count": 24,
   "metadata": {},
   "outputs": [
    {
     "data": {
      "text/plain": [
       "False"
      ]
     },
     "execution_count": 24,
     "metadata": {},
     "output_type": "execute_result"
    }
   ],
   "source": [
    "from pythonds.basic import Deque\n",
    "def palchecker(s):\n",
    "    check =[]\n",
    "    \n",
    "    for ch in s: \n",
    "        check.insert(0,ch)\n",
    "        \n",
    "    stillEqual = True\n",
    "    \n",
    "    while len(s)>1 and stillEqual: \n",
    "        first=check.pop()#remove from the front \n",
    "        last=check.pop(0) #remove the rear\n",
    "        \n",
    "        if first!=last: \n",
    "            stillEqual=False\n",
    "    return stillEqual\n",
    "\n",
    "s='cat'\n",
    "#s2='ooo'\n",
    "#palchecker(s)\n",
    "palchecker(s)"
   ]
  },
  {
   "cell_type": "code",
   "execution_count": null,
   "metadata": {},
   "outputs": [],
   "source": []
  }
 ],
 "metadata": {
  "kernelspec": {
   "display_name": "Python 3",
   "language": "python",
   "name": "python3"
  },
  "language_info": {
   "codemirror_mode": {
    "name": "ipython",
    "version": 3
   },
   "file_extension": ".py",
   "mimetype": "text/x-python",
   "name": "python",
   "nbconvert_exporter": "python",
   "pygments_lexer": "ipython3",
   "version": "3.7.6"
  }
 },
 "nbformat": 4,
 "nbformat_minor": 4
}
