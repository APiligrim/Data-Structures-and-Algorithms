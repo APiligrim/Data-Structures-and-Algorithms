{
 "cells": [
  {
   "cell_type": "markdown",
   "metadata": {},
   "source": [
    "# Problem 1: Balanced parentheses\n",
    "\n",
    "Each opening symbol has a corresponding closing symbol and the pairs of parentheses are properly nested. Balanced Ex: () () () Not Balanced (()\n",
    "\n",
    "### The challenge \n",
    "\n",
    "Write an algorithm that would read a string of parentheses from left to right and decide whether the symbols are balanced. As you process symbols from left to right, the most recent opening parenthesis must match the next closing symbol.\n",
    "\n",
    "Also, the first opening symbol processed may have to wait until the very last symbol for its match. Closing symbols match opening symbols in the reverse order of their appearance; they match from the inside out. This is a clue that stacks can be used to solve the problem.\n",
    "\n",
    "## Strategy\n",
    "Starting with an empty stack, process the parenthesis strings from left to right. If a symbol is an opening parenthesis, push it on the stack as a signal that a corresponding closing symbol needs to appear later. \n",
    "\n",
    "If, on the other hand, a symbol is a closing parenthesis, pop the stack. \n",
    "\n",
    "As long as it is possible to pop the stack to match every closing symbol, the parentheses remain balanced. If at any time there is no opening symbol on the stack to match a closing symbol, the string is not balanced "
   ]
  },
  {
   "cell_type": "code",
   "execution_count": 35,
   "metadata": {},
   "outputs": [],
   "source": [
    "class Stack:\n",
    "    def __init__(self):\n",
    "        self.items=[]\n",
    "    def push(self, item):\n",
    "        self.items.append(item)\n",
    "    def pop(self):\n",
    "        return self.items.pop()\n",
    "    def is_empty(self):\n",
    "        return self.items ==[]\n",
    "s= Stack()"
   ]
  },
  {
   "cell_type": "code",
   "execution_count": 36,
   "metadata": {},
   "outputs": [
    {
     "ename": "SyntaxError",
     "evalue": "'return' outside function (<ipython-input-36-4a3863c2f756>, line 24)",
     "output_type": "error",
     "traceback": [
      "\u001b[1;36m  File \u001b[1;32m\"<ipython-input-36-4a3863c2f756>\"\u001b[1;36m, line \u001b[1;32m24\u001b[0m\n\u001b[1;33m    return True\u001b[0m\n\u001b[1;37m    ^\u001b[0m\n\u001b[1;31mSyntaxError\u001b[0m\u001b[1;31m:\u001b[0m 'return' outside function\n"
     ]
    }
   ],
   "source": [
    "#problem function \n",
    "\n",
    "#we assume at the start the brackets are balanced\n",
    "balanced = True\n",
    "index=0\n",
    "symbol_string= '((()))'\n",
    "\n",
    "while index < len(symbol_string) and balanced: \n",
    "    symbol = symbol_string[index]\n",
    "\n",
    "    # if symbol is open bracket, push it to the stack --- to signal that \n",
    "    # a closing symbol needs to be there too\n",
    "    if symbol ==\"(\":\n",
    "        s.push(symbol)\n",
    "    else:\n",
    "        if s.is_empty():\n",
    "            balanced= False # if theres no opening thing at index 0 then no balance\n",
    "        else:\n",
    "            s.pop()# if has ) then remove the last item pushed\n",
    "    index +=1\n",
    "#as long as the expression is balanced and the stack has been completely \n",
    "#cleanned off, the string represents a correctly balanced sequence of parentheses\n",
    "if balanced and s.is_empty():\n",
    "    return True\n",
    "\n",
    "else:\n",
    "    return False \n",
    "       \n",
    "#s= Stack()\n",
    "#symbol_string= '((()))'\n",
    "#check_parentheses(symbol_string)\n",
    "#print(check_parentheses(symbol_string))\n",
    "#print(check_parentheses(symbol_string))"
   ]
  },
  {
   "cell_type": "markdown",
   "metadata": {},
   "source": [
    "# Converting Decman Numbers to Bibary Numbers\n",
    "\n",
    "All the values stored within a computer exist as a string of binary digits, a string of 0s and 1s. \n",
    "\n",
    "# Dive by 2 Algorithm \n",
    "### Uses a stack to keep track of the digits for the Binary result\n",
    "\n",
    "The Divide by 2 algorithm starts with an integer greater than 0. A simple iteration then continously divides the decimal number by 2 and keeps track fo the remainder. \n",
    "\n",
    "The first division by 2 gives information for odd or even value. Even has remainer of 0 while odd has remainder of 1 and will have the digit 1 in the ones place. \n",
    "\n",
    "![](https://runestone.academy/runestone/books/published/pythonds/_images/dectobin.png) \n",
    "\n"
   ]
  },
  {
   "cell_type": "markdown",
   "metadata": {},
   "source": [
    "def divide_by_2(number):\n",
    "    stack = []\n",
    "    \n",
    "    #as long as the number is greater than 0 \n",
    "    while number >0: \n",
    "        #first find the remainder \n",
    "        remainder = number %2\n",
    "        \n",
    "        #add the remainder to the stack \n",
    "        stack.append(remainder)\n",
    "        \n",
    "        #keep dividing the number by 2 \n",
    "        dec_num = number // 2\n",
    "    bin_string =\"\"\n",
    "    while not len(stack)==0: \n",
    "        bin_string = bin_string +str(stack.pop)\n",
    "    return bin_string\n",
    "print(divide_by_2(42))\n",
    "divide_by_2(42)"
   ]
  },
  {
   "cell_type": "code",
   "execution_count": 12,
   "metadata": {},
   "outputs": [
    {
     "name": "stdout",
     "output_type": "stream",
     "text": [
      "regular print of the items in the loop \n",
      "hello\n",
      "hi\n",
      "Hi\n",
      "loop with range len\n",
      "0\n",
      "1\n",
      "2\n"
     ]
    }
   ],
   "source": [
    "nums = [\"hello\",'hi','Hi']\n",
    "print('regular print of the items in the loop ')\n",
    "#this will start from the\n",
    "for i in nums: \n",
    "    print(i)\n",
    "    #print(nums[i]) --- this would not work because we are not looping over the indexes\n",
    "\n",
    "print('loop with range len')\n",
    "for i in range(len(nums)): \n",
    "    print(i)\n",
    "    "
   ]
  },
  {
   "cell_type": "code",
   "execution_count": null,
   "metadata": {},
   "outputs": [],
   "source": []
  }
 ],
 "metadata": {
  "kernelspec": {
   "display_name": "Python 3",
   "language": "python",
   "name": "python3"
  },
  "language_info": {
   "codemirror_mode": {
    "name": "ipython",
    "version": 3
   },
   "file_extension": ".py",
   "mimetype": "text/x-python",
   "name": "python",
   "nbconvert_exporter": "python",
   "pygments_lexer": "ipython3",
   "version": "3.7.6"
  }
 },
 "nbformat": 4,
 "nbformat_minor": 4
}
