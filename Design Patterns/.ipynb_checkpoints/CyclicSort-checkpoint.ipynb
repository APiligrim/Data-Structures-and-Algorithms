{
 "cells": [
  {
   "cell_type": "markdown",
   "metadata": {},
   "source": [
    "# Cyclic Sort\n",
    "\n",
    "![](https://cdn.emre.me/2019-10-28-missing-number-example.png) \n",
    "\n",
    "### Problem Example:\n",
    "Given an array containing n distinct numbers taken from 0,1,2>>,n, find the one that is missing from the array \n",
    "\n"
   ]
  },
  {
   "cell_type": "code",
   "execution_count": 16,
   "metadata": {},
   "outputs": [
    {
     "data": {
      "text/plain": [
       "2"
      ]
     },
     "execution_count": 16,
     "metadata": {},
     "output_type": "execute_result"
    }
   ],
   "source": [
    "class Solution: \n",
    "    def missingNumber(self, nums): \n",
    "        start=0\n",
    "\n",
    "        while start< len(nums):\n",
    "            num = nums[start]\n",
    "\n",
    "            #if the current number is less than the length of the array\n",
    "            #and if the current number is not equal to the first number\n",
    "            #then the current number is swapped with the next number \n",
    "            #the  next number is swapped with the current number \n",
    "            if num<len(nums) and num !=start: \n",
    "                nums[start],nums[num]=nums[num], nums[start]\n",
    "            #else we add 1 to the start and begin again\n",
    "            else: \n",
    "                start +=1\n",
    "        #once the numbers are in the correct place, iterate the array to find the\n",
    "        #index which does not have the correct number\n",
    "        for i in range(len(nums)):\n",
    "            if nums[i] !=i:\n",
    "                return i \n",
    "        return len(nums)\n",
    "\n",
    "#time complexity: O(N)\n",
    "#space complexity: O(1)\n",
    "\n",
    "test=[4,0,3,1,10,6]\n",
    "# t=Solution(nums)\n",
    "# t.nums=[4,0,3,1]\n",
    "#print(test)\n",
    "nums =Solution()\n",
    "nums.missingNumber(test)\n",
    "#print(missingNumber(nums))"
   ]
  },
  {
   "cell_type": "code",
   "execution_count": null,
   "metadata": {},
   "outputs": [],
   "source": []
  }
 ],
 "metadata": {
  "kernelspec": {
   "display_name": "Python 3",
   "language": "python",
   "name": "python3"
  },
  "language_info": {
   "codemirror_mode": {
    "name": "ipython",
    "version": 3
   },
   "file_extension": ".py",
   "mimetype": "text/x-python",
   "name": "python",
   "nbconvert_exporter": "python",
   "pygments_lexer": "ipython3",
   "version": "3.7.6"
  }
 },
 "nbformat": 4,
 "nbformat_minor": 4
}
