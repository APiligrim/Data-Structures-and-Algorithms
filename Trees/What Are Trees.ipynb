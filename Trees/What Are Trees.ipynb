{
 "cells": [
  {
   "cell_type": "markdown",
   "metadata": {},
   "source": [
    "# Trees :-)\n",
    "Tree represents the nodes connected by edges. It is a non-linear data structure.\n",
    "\n",
    "## Defintion One: \n",
    "A tree consists of a set of nodes and a set of edges that connect pairs of nodes. A tree has the following properties: \n",
    "    - One node of the tree is designated as the **root node**\n",
    "    - Every node n, except the root node, is connected by an edge from exactly one other node p, where p is the parent of n\n",
    "    - A unique path traverses from the root to each node\n",
    "    - **Binary tree** - if each node in the tree has a maximum of 2 children\n",
    "\n",
    "## Defintion Two: \n",
    "A tree is either empty or consists of a root and zero or more subtrees, each of which is also a tree. The root of each subtree is connected to the root of the parent tree by an edge."
   ]
  },
  {
   "cell_type": "code",
   "execution_count": 10,
   "metadata": {},
   "outputs": [],
   "source": [
    "class TreeNode: \n",
    "    def __init__(self, data): \n",
    "        self.data= data\n",
    "        self.children = []\n",
    "        self.parent=None\n",
    "    def add_child(self, child): \n",
    "        child.parent = self\n",
    "        self.children.append(child)\n",
    "\n",
    "def build_product_tree():\n",
    "    root = TreeNode('Electronics')\n",
    "    laptop = TreeNode(\"laptop\")\n",
    "    root.add_child(laptop)\n",
    "    return root\n",
    "\n",
    "root = build_product_tree()\n",
    "#root.add_child('hello')"
   ]
  },
  {
   "cell_type": "markdown",
   "metadata": {},
   "source": [
    "# Create Root"
   ]
  },
  {
   "cell_type": "code",
   "execution_count": 4,
   "metadata": {},
   "outputs": [
    {
     "name": "stdout",
     "output_type": "stream",
     "text": [
      "10\n"
     ]
    }
   ],
   "source": [
    "class Node: \n",
    "    def __init__(self, data): \n",
    "        self.left=None\n",
    "        self.right=None\n",
    "        self.data=data\n",
    "        \n",
    "    def PrintTree(self):\n",
    "        print(self.data)\n",
    "\n",
    "root=Node(10)\n",
    "root.PrintTree()"
   ]
  },
  {
   "cell_type": "markdown",
   "metadata": {},
   "source": [
    "# Inserting into a Tree\n",
    "To insert into a tree we use the same node class created above and add an insert method to it. The insert method compares the value of the node to the parent node and decisdes to add it as a left node or a right node. \n",
    "The PrintTree method is used to print the tree."
   ]
  },
  {
   "cell_type": "code",
   "execution_count": 3,
   "metadata": {},
   "outputs": [
    {
     "name": "stdout",
     "output_type": "stream",
     "text": [
      "3\n",
      "6\n",
      "12\n",
      "14\n"
     ]
    }
   ],
   "source": [
    "class Node: \n",
    "    def __init__(self,data): \n",
    "        self.left = None\n",
    "        self.right = None\n",
    "        self.data=data\n",
    "    def insert(self, data): \n",
    "#compare the new value with the parent node\n",
    "        if self.data:\n",
    "            if data < self.data:\n",
    "                #smaller values go to the left\n",
    "                if self.left is None: \n",
    "                    self.left = Node(data)\n",
    "                else:\n",
    "                    self.left.insert(data)\n",
    "                    #bigger values go to the right\n",
    "            elif data > self.data: \n",
    "                if self.right is None: \n",
    "                    self.right =Node(data)\n",
    "                else: \n",
    "                    self.right.insert(data)\n",
    "        else: \n",
    "            self.data=data\n",
    "# Print the tree\n",
    "    def PrintTree(self): \n",
    "        if self.left: \n",
    "            self.left.PrintTree()\n",
    "        print(self.data),\n",
    "        if self.right: \n",
    "            self.right.PrintTree()\n",
    "\n",
    "#Use the insert method to add nodes\n",
    "root = Node(12)\n",
    "root.insert(6)\n",
    "root.insert(14)\n",
    "root.insert(3)\n",
    "\n",
    "root.PrintTree()"
   ]
  },
  {
   "cell_type": "markdown",
   "metadata": {},
   "source": [
    "# Traversing a Tree (2 options) \n",
    "\n",
    "### Breath First Search \n",
    "\n",
    "### Depth First Search \n",
    "The tree can be traversed by decideing on a sequence to visit each node.we can start at a node then visit the left sub-tree first and right sub-tree next. Or we can also visit the right sub-tree first and left sub-tree next. Accordingly there are different names for these tree traversal methods.  "
   ]
  },
  {
   "cell_type": "markdown",
   "metadata": {},
   "source": [
    "# Binary Tree\n",
    "\n",
    "Has at most 2 child nodes \n",
    "\n",
    "# Binary Search Tree \n",
    "Binary Tree that has some order! The keys that are less than the parent are found in the left subtree, and the keys that are greater than the parent are found in the right subtree.  \n",
    "\n",
    "### Methods \n",
    "\n",
    " -  Map() - create a new, empty map \n",
    " - put(key,val) - add a new key-value pair to the map \n",
    " - get(key) - given a key , return the value stored in the map or None \n",
    " - del - delete the key-value pari from the map suing a statement of the form del map[key] \n",
    " - in Return True - for a statement of the form key in map, if the given key is in the map\n",
    "![](https://upload.wikimedia.org/wikipedia/commons/thumb/d/da/Binary_search_tree.svg/1200px-Binary_search_tree.svg.png)"
   ]
  },
  {
   "cell_type": "code",
   "execution_count": 11,
   "metadata": {},
   "outputs": [],
   "source": [
    "# Binary Search Tree\n",
    "class BinarySearchTree: \n",
    "    def __init__(self): \n",
    "        self.root = None \n",
    "        self.size = 0 \n",
    "    def length(self): \n",
    "        return self.size \n",
    "    def __len__(self): \n",
    "        return self.size\n",
    "    def __iter__(self): \n",
    "        return self.root.__iter__()"
   ]
  },
  {
   "cell_type": "code",
   "execution_count": 14,
   "metadata": {},
   "outputs": [],
   "source": [
    "class TreeNode: \n",
    "    def __init__(self, key , val, left=None, right =None, parent= None): \n",
    "        self.key = key \n",
    "        self.payload= val\n",
    "        self.leftChild = left \n",
    "        self.rightChild = right \n",
    "        self.parent = parent \n",
    "    def hasLeftChild(self): \n",
    "        return self.leftChild \n",
    "    def hasRightChild(self): \n",
    "        return self.rightChild \n",
    "    def isLeftChild(self): \n",
    "        return self.parent and self.parent.leftChild ==self\n",
    "    def isRightChild(self): \n",
    "        return self.parent and self.parent.rightChild == self\n",
    "    def isRoot(self): \n",
    "        return not self.parent \n",
    "    def isLeaf(self): \n",
    "        return not (self.rightChild or self.leftChild)\n",
    "    def hasAnyChildren(self): \n",
    "        return self.rightChild or self.leftChild \n",
    "    def hasBothChildren(self): \n",
    "        return self.rightChild and self.leftChild \n",
    "    #after the comparison is done, insert the node to its right place \n",
    "    def replaceNodeData(self, key, value, lc, rc): \n",
    "        self.key = key \n",
    "        self.payload = value \n",
    "        self.leftChild = lc\n",
    "        self.rightChild = rc\n",
    "        if self.hasLeftChild(): \n",
    "            self.leftChild.parent = self\n",
    "        if self.hasRightChild(): \n",
    "            self.rightCHild.parent =self"
   ]
  },
  {
   "cell_type": "code",
   "execution_count": 13,
   "metadata": {},
   "outputs": [
    {
     "name": "stdout",
     "output_type": "stream",
     "text": [
      "Preorder traversal of binary tree is\n",
      "1\n",
      "2\n",
      "4\n",
      "5\n",
      "3\n",
      "\n",
      "Inorder traversal of binary tree is\n",
      "4\n",
      "2\n",
      "5\n",
      "1\n",
      "3\n",
      "\n",
      "Postorder traversal of binary tree is\n",
      "4\n",
      "5\n",
      "2\n",
      "3\n",
      "1\n"
     ]
    }
   ],
   "source": [
    "class Node: \n",
    "    def __init__(self,key): \n",
    "        self.left = None\n",
    "        self.right = None\n",
    "        self.val = key \n",
    "  \n",
    "  \n",
    "# A function to do inorder tree traversal \n",
    "def printInorder(root): \n",
    "  \n",
    "    if root: \n",
    "  \n",
    "        # First recur on left child \n",
    "        printInorder(root.left) \n",
    "  \n",
    "        # then print the data of node \n",
    "        print(root.val), \n",
    "  \n",
    "        # now recur on right child \n",
    "        printInorder(root.right) \n",
    "  \n",
    "  \n",
    "  \n",
    "# A function to do postorder tree traversal \n",
    "def printPostorder(root): \n",
    "  \n",
    "    if root: \n",
    "  \n",
    "        # First recur on left child \n",
    "        printPostorder(root.left) \n",
    "  \n",
    "        # the recur on right child \n",
    "        printPostorder(root.right) \n",
    "  \n",
    "        # now print the data of node \n",
    "        print(root.val), \n",
    "  \n",
    "  \n",
    "# A function to do preorder tree traversal \n",
    "def printPreorder(root): \n",
    "  \n",
    "    if root: \n",
    "  \n",
    "        # First print the data of node \n",
    "        print(root.val), \n",
    "  \n",
    "        # Then recur on left child \n",
    "        printPreorder(root.left) \n",
    "  \n",
    "        # Finally recur on right child \n",
    "        printPreorder(root.right) \n",
    "  \n",
    "  \n",
    "# Driver code \n",
    "root = Node(1) \n",
    "root.left      = Node(2) \n",
    "root.right     = Node(3) \n",
    "root.left.left  = Node(4) \n",
    "root.left.right  = Node(5) \n",
    "print(\"Preorder traversal of binary tree is\")\n",
    "printPreorder(root) \n",
    "  \n",
    "print(\"\\nInorder traversal of binary tree is\")\n",
    "printInorder(root) \n",
    "\n",
    "print(\"\\nPostorder traversal of binary tree is\")\n",
    "#print \"\\nPostorder traversal of binary tree is\"\n",
    "printPostorder(root) "
   ]
  },
  {
   "cell_type": "code",
   "execution_count": null,
   "metadata": {},
   "outputs": [],
   "source": []
  }
 ],
 "metadata": {
  "kernelspec": {
   "display_name": "Python 3",
   "language": "python",
   "name": "python3"
  },
  "language_info": {
   "codemirror_mode": {
    "name": "ipython",
    "version": 3
   },
   "file_extension": ".py",
   "mimetype": "text/x-python",
   "name": "python",
   "nbconvert_exporter": "python",
   "pygments_lexer": "ipython3",
   "version": "3.7.6"
  }
 },
 "nbformat": 4,
 "nbformat_minor": 4
}
