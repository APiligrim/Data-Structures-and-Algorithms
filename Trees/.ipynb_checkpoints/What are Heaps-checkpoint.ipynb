{
 "cells": [
  {
   "cell_type": "markdown",
   "metadata": {},
   "source": [
    "# Heaps \n",
    "\n",
    "Bunary heaps allow to both enque and dequeue items in O(log N).\n",
    "The classic way to implement a priority queue is through a binary heap. \n",
    "\n",
    "### Min Heap\n",
    "- the smallest key is always at the front\n",
    "\n",
    "### Max Heap \n",
    "- the larges t key value is always at the front"
   ]
  },
  {
   "cell_type": "markdown",
   "metadata": {},
   "source": [
    "# Binary Heap Operations \n",
    "\n",
    "1. BinaryHeap() - creates a new, empty, binary heap\n",
    "\n",
    "2. insert(k)- adds a new item to the heap \n",
    "\n",
    "3. FindMin()- returns the item with the minimum key value, leaving item in the heap\n",
    "\n",
    "4. delMin() - returns the item with the minimum key value, removing the item from the heap \n",
    "\n",
    "5. isEmpty() returns true if the heap is empty , false otherwise \n",
    "\n",
    "6. size() - returns the number of items in the heap \n",
    "\n",
    "7. buildHeap(list) builds a new heap from a list of keys."
   ]
  },
  {
   "cell_type": "markdown",
   "metadata": {},
   "source": [
    "# Applications of Heaps\n",
    "\n",
    "1) **Heap Sort:** Heap Sort uses Binary Heap to sort an array in O(nLogn) time.\n",
    "\n",
    "2) **Priority Queue:** Priority queues can be efficiently implemented using Binary Heap because it supports insert(), delete() and extractmax(), decreaseKey() operations in **O(logn)** time. Binomoial Heap and Fibonacci Heap are variations of Binary Heap. These variations perform union also efficiently.\n",
    "\n",
    "3) **Graph Algorithms:** The priority queues are especially used in Graph Algorithms like Dijkstra’s Shortest Path and Prim’s Minimum Spanning Tree.\n",
    "\n",
    "4) Many problems can be efficiently solved using **Heaps**. See following for example.\n",
    "a) K’th Largest Element in an array.\n",
    "b) Sort an almost sorted array/\n",
    "c) Merge K Sorted Arrays."
   ]
  },
  {
   "cell_type": "code",
   "execution_count": null,
   "metadata": {},
   "outputs": [],
   "source": []
  }
 ],
 "metadata": {
  "kernelspec": {
   "display_name": "Python 3",
   "language": "python",
   "name": "python3"
  },
  "language_info": {
   "codemirror_mode": {
    "name": "ipython",
    "version": 3
   },
   "file_extension": ".py",
   "mimetype": "text/x-python",
   "name": "python",
   "nbconvert_exporter": "python",
   "pygments_lexer": "ipython3",
   "version": "3.7.6"
  }
 },
 "nbformat": 4,
 "nbformat_minor": 4
}
