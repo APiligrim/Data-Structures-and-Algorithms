{
 "cells": [
  {
   "cell_type": "markdown",
   "metadata": {},
   "source": [
    "# Trees :-)\n",
    "Tree represents the nodes connected by edges. It is a non-linear data structure.\n",
    "\n",
    "## Defintion One: \n",
    "A tree consists of a set of nodes and a set of edges that connect pairs of nodes. A tree has the following properties: \n",
    "    - One node of the tree is designated as the **root node**\n",
    "    - Every node n, except the root node, is connected by an edge from exactly one other node p, where p is the parent of n\n",
    "    - A unique path traverses from the root to each node\n",
    "    - **Binary tree** - if each node in the tree has a maximum of 2 children\n",
    "\n",
    "## Defintion Two: \n",
    "A tree is either empty or consists of a root and zero or more subtrees, each of which is also a tree. The root of each subtree is connected to the root of the parent tree by an edge."
   ]
  },
  {
   "cell_type": "markdown",
   "metadata": {},
   "source": [
    "# Create Root"
   ]
  },
  {
   "cell_type": "code",
   "execution_count": 4,
   "metadata": {},
   "outputs": [
    {
     "name": "stdout",
     "output_type": "stream",
     "text": [
      "10\n"
     ]
    }
   ],
   "source": [
    "class Node: \n",
    "    def __init__(self, data): \n",
    "        self.left=None\n",
    "        self.right=None\n",
    "        self.data=data\n",
    "        \n",
    "    def PrintTree(self):\n",
    "        print(self.data)\n",
    "\n",
    "root=Node(10)\n",
    "root.PrintTree()"
   ]
  },
  {
   "cell_type": "markdown",
   "metadata": {},
   "source": [
    "# Inserting into a Tree\n",
    "To insert into a tree we use the same node class created above and add an insert method to it. The insert method compares the value of the node to the parent node and decisdes to add it as a left node or a right node. \n",
    "The PrintTree method is used to print the tree."
   ]
  },
  {
   "cell_type": "code",
   "execution_count": 3,
   "metadata": {},
   "outputs": [
    {
     "name": "stdout",
     "output_type": "stream",
     "text": [
      "3\n",
      "6\n",
      "12\n",
      "14\n"
     ]
    }
   ],
   "source": [
    "class Node: \n",
    "    def __init__(self,data): \n",
    "        self.left = None\n",
    "        self.right = None\n",
    "        self.data=data\n",
    "    def insert(self, data): \n",
    "#compare the new value with the parent node\n",
    "        if self.data:\n",
    "            if data < self.data:\n",
    "                #smaller values go to the left\n",
    "                if self.left is None: \n",
    "                    self.left = Node(data)\n",
    "                else:\n",
    "                    self.left.insert(data)\n",
    "                    #bigger values go to the right\n",
    "            elif data > self.data: \n",
    "                if self.right is None: \n",
    "                    self.right =Node(data)\n",
    "                else: \n",
    "                    self.right.insert(data)\n",
    "        else: \n",
    "            self.data=data\n",
    "# Print the tree\n",
    "    def PrintTree(self): \n",
    "        if self.left: \n",
    "            self.left.PrintTree()\n",
    "        print(self.data),\n",
    "        if self.right: \n",
    "            self.right.PrintTree()\n",
    "\n",
    "#Use the insert method to add nodes\n",
    "root = Node(12)\n",
    "root.insert(6)\n",
    "root.insert(14)\n",
    "root.insert(3)\n",
    "\n",
    "root.PrintTree()"
   ]
  },
  {
   "cell_type": "markdown",
   "metadata": {},
   "source": [
    "# Traversing a Tree\n",
    "\n",
    "The tree can be traversed by decideing on a sequence to visit each node.we can start at a node then visit the left sub-tree first and right sub-tree next. Or we can also visit the right sub-tree first and left sub-tree next. Accordingly there are different names for these tree traversal methods.  "
   ]
  },
  {
   "cell_type": "code",
   "execution_count": null,
   "metadata": {},
   "outputs": [],
   "source": []
  }
 ],
 "metadata": {
  "kernelspec": {
   "display_name": "Python 3",
   "language": "python",
   "name": "python3"
  },
  "language_info": {
   "codemirror_mode": {
    "name": "ipython",
    "version": 3
   },
   "file_extension": ".py",
   "mimetype": "text/x-python",
   "name": "python",
   "nbconvert_exporter": "python",
   "pygments_lexer": "ipython3",
   "version": "3.7.6"
  }
 },
 "nbformat": 4,
 "nbformat_minor": 4
}
