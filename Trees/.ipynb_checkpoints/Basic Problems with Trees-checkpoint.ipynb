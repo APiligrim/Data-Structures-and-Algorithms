{
 "cells": [
  {
   "cell_type": "markdown",
   "metadata": {},
   "source": [
    "# Problem 1: \n",
    "Parse Tree for ((7+3) * (5-2))\n",
    "\n",
    "Strategy : Break up the expression string into a list of tokens\n",
    "    1. If the current node is '(' add a new node as the left child of the current node, and descend to the left child\n",
    "    2. If the current token is in the list ['+', '-','-','*'] set the root value of the current node to the operator represented by the current token\n",
    "    3. if the token is a #, set the root value of the current node to the number and rteturn to the parent \n",
    "    4. if the token is a ')' go to the parent of the current node\n",
    "    "
   ]
  },
  {
   "cell_type": "code",
   "execution_count": 1,
   "metadata": {},
   "outputs": [],
   "source": [
    "from pythonds.basic import Stack \n",
    "from pythonds.trees import BinaryTree\n",
    "\n",
    "def buildParseTree(fpexp): \n",
    "    #split the string\n",
    "    fplist = fpexp.split()\n",
    "    #create an empty stack\n",
    "    pStack=Stack()\n",
    "    #create an empty node\n",
    "    eTree = BinaryTree('')\n",
    "    #push the empty node to the stack\n",
    "    pStack.push(eTree)\n",
    "    #current tree = tree top in the stack\n",
    "    currentTree= eTree\n",
    "    \n",
    "    for i in fplist: \n",
    "        if i =='(':\n",
    "            #we insert a left empty node and push the current tree to the stack again\n",
    "            currentTree.insertLeft('')\n",
    "            pStack.push(currentTree)\n",
    "            currentTree= currentTree.getLeftChild()\n",
    "        elif i not in '+-*/':\n",
    "            # if its not an operator but a number, then we set the current node \n",
    "            # as that value\n",
    "            currentTree.setRootVal(eval(i))\n",
    "            #pop the parent fromt he stack and set the current node as the new parent\n",
    "            parent = pStack.pop()\n",
    "            currentTree= parent \n",
    "        elif i in '+-*/':\n",
    "            # if its an operator, set it as a curr node\n",
    "            currentTree.setRootVal(i)\n",
    "            #create an empty right node \n",
    "            currentTree.insertRight('')\n",
    "            #push the current value to a stack\n",
    "            pStack.push(currentTree)\n",
    "            currentTree = currentTree.getRightChild()\n",
    "        elif i==')':\n",
    "            #when ), we pop the curent top element in the stack and keep going until the stack is empty\n",
    "            currentTree=pStack.pop()\n",
    "        else: \n",
    "            #if there is a value we dont recogrnize, we throw an error\n",
    "            raise ValueError(\"Unknown operator: \" +i)\n",
    "    return eTree\n"
   ]
  },
  {
   "cell_type": "markdown",
   "metadata": {},
   "source": [
    "# Recursive Approach\n",
    "\n",
    "The base case for recursion of a parse tree is to check fro a leaf node\n",
    "\n",
    "### when we first call evaluate function, we pass the root of the entire tree as the parameter parseTree.\n",
    "\n",
    "Then obtain references tot he left and right children to make sure they exisit."
   ]
  },
  {
   "cell_type": "code",
   "execution_count": 2,
   "metadata": {},
   "outputs": [],
   "source": [
    "def evaluate(parseTree): \n",
    "    opers ={\n",
    "        '+':lambda a,b : a+b,\n",
    "        '-':lambda a,b: a-b, \n",
    "        '/':lambda a,b: int(a/b),\n",
    "        '*':lambda a,b: a*b\n",
    "        }\n",
    "    if leftC and rightC: \n",
    "        fn= opers[parseTree.getRootVal()]\n",
    "        return fn(evaluate(leftC), evaluate(rightC))\n",
    "    else: \n",
    "        return parseTree.getRootVal()"
   ]
  },
  {
   "cell_type": "code",
   "execution_count": null,
   "metadata": {},
   "outputs": [],
   "source": []
  }
 ],
 "metadata": {
  "kernelspec": {
   "display_name": "Python 3",
   "language": "python",
   "name": "python3"
  },
  "language_info": {
   "codemirror_mode": {
    "name": "ipython",
    "version": 3
   },
   "file_extension": ".py",
   "mimetype": "text/x-python",
   "name": "python",
   "nbconvert_exporter": "python",
   "pygments_lexer": "ipython3",
   "version": "3.7.6"
  }
 },
 "nbformat": 4,
 "nbformat_minor": 4
}
