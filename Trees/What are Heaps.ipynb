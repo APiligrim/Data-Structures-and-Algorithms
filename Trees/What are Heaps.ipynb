{
 "cells": [
  {
   "cell_type": "markdown",
   "metadata": {},
   "source": [
    "# Heaps \n",
    "\n",
    "Bunary heaps allow to both enque and dequeue items in O(log N).\n",
    "The classic way to implement a priority queue is through a binary heap. \n",
    "\n",
    "### Min Heap\n",
    "- the smallest key is always at the front\n",
    "\n",
    "### Max Heap \n",
    "- the larges t key value is always at the front"
   ]
  },
  {
   "cell_type": "markdown",
   "metadata": {},
   "source": [
    "# Binary Heap Operations \n",
    "\n",
    "1. BinaryHeap() - creates a new, empty, binary heap\n",
    "\n",
    "2. insert(k)- adds a new item to the heap \n",
    "\n",
    "3. FindMin()- returns the item with the minimum key value, leaving item in the heap\n",
    "\n",
    "4. delMin() - returns the item with the minimum key value, removing the item from the heap \n",
    "\n",
    "5. isEmpty() returns true if the heap is empty , false otherwise \n",
    "\n",
    "6. size() - returns the number of items in the heap \n",
    "\n",
    "7. buildHeap(list) builds a new heap from a list of keys."
   ]
  },
  {
   "cell_type": "markdown",
   "metadata": {},
   "source": [
    "# Applications of Heaps\n",
    "\n",
    "1) **Heap Sort:** Heap Sort uses Binary Heap to sort an array in O(nLogn) time.\n",
    "\n",
    "2) **Priority Queue:** Priority queues can be efficiently implemented using Binary Heap because it supports insert(), delete() and extractmax(), decreaseKey() operations in **O(logn)** time. Binomoial Heap and Fibonacci Heap are variations of Binary Heap. These variations perform union also efficiently.\n",
    "\n",
    "3) **Graph Algorithms:** The priority queues are especially used in Graph Algorithms like **Dijkstra’s Shortest Path and Prim’s Minimum Spanning Tree**.\n",
    "\n",
    "4) Many problems can be efficiently solved using **Heaps**. See following for example.\n",
    "a) K’th Largest Element in an array.\n",
    "b) Sort an almost sorted array/\n",
    "c) Merge K Sorted Arrays."
   ]
  },
  {
   "cell_type": "markdown",
   "metadata": {},
   "source": [
    "# Implementation \n",
    "\n",
    "We will implement a heap through a complete binary tree - where each level has all of its nodes - it has the same nu,ber of nodes in the left and right subtrees of the root.\n",
    "\n",
    "## The exception to this is the bottom level of the tree, which we fill in from left to right\n",
    "\n",
    "![](https://web.cecs.pdx.edu/~sheard/course/Cs163/Graphics/CompleteBinary.jpg)\n",
    "![](https://cdn.programiz.com/sites/tutorial2program/files/comparison-1_0.png)\n",
    "\n",
    "We can also implement this using a single list - node is at position n and parent is at position n/2\n",
    "\n",
    "### Heap Order Properties \n",
    " In a heap, for every node x with parent p, the key in p is smaller than or equal to the key in x. \n",
    " ![](https://iq.opengenus.org/content/images/2019/06/Max-Heap.png)"
   ]
  },
  {
   "cell_type": "code",
   "execution_count": 4,
   "metadata": {},
   "outputs": [],
   "source": [
    "class Heaps: \n",
    "    def __init__(self): \n",
    "        self.heapList = [0]\n",
    "        self.currentSize = 0\n",
    "        \n",
    "    # once the item is appended, perUp swaps the item to the right order \n",
    "    def percUp(self, i): \n",
    "        while i // 2 > 0: \n",
    "            #if current item is less than the parent node\n",
    "            if self.heapList[i] < self.heapList[i//2]: \n",
    "                #store the parent node into a temporary variable\n",
    "                tmp = self.heapList[i//2]\n",
    "                #the parent node now gets updated to the current node\n",
    "                self.heapList[i //2] = self.heapList[i]\n",
    "                #the current node gets swapped with the node that used to be the parent \n",
    "                self.heapList[i]=tmp \n",
    "            i = i//2\n",
    "    def insert(self, k): \n",
    "        self.heapList.append(k)\n",
    "        self.currentSize = self.currentSize +1\n",
    "        self.percUp(self.currentSize)#call the percUp method here to do the swapping after the element has been appended\n",
    "    \n",
    "    def percDown(self, i): \n",
    "        while (i*2)<= self.currentSize: \n",
    "            mc = self.minChild(i)\n",
    "            if self.heapList[i] >self.heapList[mc]:\n",
    "                tmp = self.heapList[i]\n",
    "                self.heapList[i] =self.heapList[mc]\n",
    "                self.heapList[mc]=tmp\n",
    "            i=mc\n",
    "    def minChild(self, i): \n",
    "        if i*2+1 > self.currentSize: \n",
    "            return i*2\n",
    "        else: \n",
    "            if self.heapList[i*2] <self.heapList[i*2+1]:\n",
    "                return i*2\n",
    "            else: \n",
    "                return i*2+1\n",
    "    def delMin(self): \n",
    "        retval = self.heapList[i]\n",
    "        self.heapList[1]= self.heapList[self.currentSize]\n",
    "        self.currentSize = self.currentSize-1\n",
    "        self.heapList.pop()\n",
    "        self.percDown(1)\n",
    "        return retval \n",
    "    \n",
    "    # if we start with an entire list of heaps, it would be O(n) rather than inserting into the middle of heaps O(nlogn)\n",
    "    #building a new heap from a list of items\n",
    "    def buildHeap(self, alist): \n",
    "        i = len(alist)//2\n",
    "        self.currentSize = len(alist)\n",
    "        self.heapList = [0] + alist[:]\n",
    "        while (i>0): \n",
    "            self.percDown(i)\n",
    "            i = i -1\n",
    "tree = Heaps()\n"
   ]
  },
  {
   "cell_type": "code",
   "execution_count": null,
   "metadata": {},
   "outputs": [],
   "source": []
  }
 ],
 "metadata": {
  "kernelspec": {
   "display_name": "Python 3",
   "language": "python",
   "name": "python3"
  },
  "language_info": {
   "codemirror_mode": {
    "name": "ipython",
    "version": 3
   },
   "file_extension": ".py",
   "mimetype": "text/x-python",
   "name": "python",
   "nbconvert_exporter": "python",
   "pygments_lexer": "ipython3",
   "version": "3.7.6"
  }
 },
 "nbformat": 4,
 "nbformat_minor": 4
}
