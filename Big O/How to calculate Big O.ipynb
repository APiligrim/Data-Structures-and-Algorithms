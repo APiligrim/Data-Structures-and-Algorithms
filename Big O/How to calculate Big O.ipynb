{
 "cells": [
  {
   "cell_type": "markdown",
   "metadata": {},
   "source": [
    "# Calculate Big O: How quickly the Runtime is\n",
    "\n",
    "### Example 1 - Finding Nemo \n"
   ]
  },
  {
   "cell_type": "code",
   "execution_count": null,
   "metadata": {},
   "outputs": [],
   "source": [
    "import numpy as np\n",
    "nemo =['nemo']\n",
    "everyone=['dory', 'bruce', 'martin','nemo', 'gill','bloat','nigel']\n",
    "large = np.arange(10)\n",
    "\n",
    "def findnemo(array):\n",
    "    if any(\"nemo\" in x for x in array):\n",
    "        print('Found NEMO!')\n",
    "    else:\n",
    "        print('none is found')\n",
    "print(findnemo(nemo))\n",
    "print(findnemo(everyone))"
   ]
  },
  {
   "cell_type": "markdown",
   "metadata": {},
   "source": [
    "\n",
    "# How to measure efficiency?\n",
    "\n",
    "### Big O - determine the scalability of the code\n"
   ]
  },
  {
   "cell_type": "markdown",
   "metadata": {},
   "source": [
    "![]( https://miro.medium.com/max/1200/1*_nsMVEEkIr1CH8aHjTNbzA.jpeg)"
   ]
  },
  {
   "cell_type": "markdown",
   "metadata": {},
   "source": [
    "The more elements or \"nemos\" , as it increases, the number of things we do in the loop increases as well\n",
    "\n",
    "### Big O & Scalibility --- when we go bigger with our input, how much does the algorithm slow down?\n",
    "\n",
    "### The Faster, the Better\n",
    "\n",
    "You can count the number of operations your function performs in order to calclulate how efficient the program is.\n",
    "- Ex: 5 items in a list, then loop happens 5 times so this is 5 operations. \n",
    "- Finding Nemo notation has O(n) -- Linear Time bc O(100) or O(1000) the size and the number of operations would be scalable\n",
    "\n"
   ]
  },
  {
   "cell_type": "markdown",
   "metadata": {},
   "source": [
    "# O(n) - Linear Time aka. Proportional\n",
    "\n",
    "O(n) means the number of operations and the number of elements from the input are scalable almost at the same rate (proportional)"
   ]
  },
  {
   "cell_type": "markdown",
   "metadata": {},
   "source": [
    "# O(1)- Constant Time \n",
    "\n",
    "This is excellent!\n",
    "No matter how many boxes increase, we are always grabbing the first box in the array"
   ]
  },
  {
   "cell_type": "code",
   "execution_count": 2,
   "metadata": {},
   "outputs": [],
   "source": [
    "# Example 2\n",
    "\n",
    "def compressBox(boxes):\n",
    "    print(boxes[0]) #here we are only getting the first element\n"
   ]
  },
  {
   "cell_type": "code",
   "execution_count": 3,
   "metadata": {},
   "outputs": [
    {
     "name": "stdout",
     "output_type": "stream",
     "text": [
      "0\n",
      "1\n"
     ]
    }
   ],
   "source": [
    "#Example 3\n",
    "boxes =[0,1,2,3,4,5]\n",
    "\n",
    "def log_first_box(boxes):\n",
    "    print(boxes[0])\n",
    "    print(boxes[1])\n",
    "log_first_box(boxes)\n",
    "\n",
    "#here we have 2 operations no matter how big the array is!!!!\n",
    "#thus, we still have O(1) - because it is constant "
   ]
  },
  {
   "cell_type": "code",
   "execution_count": null,
   "metadata": {},
   "outputs": [],
   "source": [
    "#Example 4\n",
    "#O(n)\n",
    "input1=[1,2,3,4,5]\n",
    "def funChallenge(input):\n",
    "    a = 10 #O(1)\n",
    "    a = 50 +3 #O(1)\n",
    "    \n",
    "    for i in input: #O(n) in this case n is the input\n",
    "        anotherFunction() #O(n)\n",
    "        stranger=true#O(n)\n",
    "        a++#O(n)\n",
    "    return a #O(1)\n",
    "\n",
    "#we have 3 steps and  + n + n + n+ n\n",
    "#BIG O(3+4n)"
   ]
  },
  {
   "cell_type": "markdown",
   "metadata": {},
   "source": [
    "# Rule Book \n",
    "\n",
    "### 1. Worst Case \n",
    "    - Assume the works case,example: if you found NEMO, the break the loop & stop it from running.\n",
    "### 2. Remove Constants\n",
    "    - Just keep the significant n's & drop the constants ex: Big O(3+4n) => we just keep the n! so Big O(n)\n",
    "### 3. Different terms for inputs****\n",
    "    - It would be O(a+b) or howevery number of inputs you have \n",
    "### 4. Drop Non Dominants\n",
    "    - Always keep the dominant term ex: if BIG O(n +n ^2) = Big O(n^2)"
   ]
  },
  {
   "cell_type": "code",
   "execution_count": 2,
   "metadata": {},
   "outputs": [],
   "source": [
    "#Rule Number 3 : differernt terms for inputs example:\n",
    "def boxes_twice(boxes, boxes2):\n",
    "    for x in boxes:\n",
    "        print(boxes)\n",
    "    for y in boxes2:\n",
    "        print(boxes)\n",
    "        \n",
    "#This is NOT O(n) \n",
    "#the 1st for loop depends on how big boxes input is\n",
    "#the 2nd for loop depends on how big boxes2 is\n",
    "\n",
    "#it would be O(a + b)\n"
   ]
  },
  {
   "cell_type": "markdown",
   "metadata": {},
   "source": [
    "# O(n ^2) - Quadratic Time \n",
    "\n",
    "When the number of elements increases, the number of operations increases quadratically.\n",
    "\n"
   ]
  },
  {
   "cell_type": "code",
   "execution_count": 4,
   "metadata": {},
   "outputs": [
    {
     "name": "stdout",
     "output_type": "stream",
     "text": [
      "1 1\n",
      "1 2\n",
      "1 3\n",
      "1 4\n",
      "1 5\n",
      "2 1\n",
      "2 2\n",
      "2 3\n",
      "2 4\n",
      "2 5\n",
      "3 1\n",
      "3 2\n",
      "3 3\n",
      "3 4\n",
      "3 5\n",
      "4 1\n",
      "4 2\n",
      "4 3\n",
      "4 4\n",
      "4 5\n",
      "5 1\n",
      "5 2\n",
      "5 3\n",
      "5 4\n",
      "5 5\n"
     ]
    }
   ],
   "source": [
    "# Question log all pairs of array\n",
    "boxes = [1,2,3,4,5] # log 1 ,2 then 1,3 then 1,4 then 1,5\n",
    "\n",
    "#loop through the array \n",
    "#log of 1 and 2\n",
    "#log of 1 and 3\n",
    "#log of 1 and 4\n",
    "#log of 1 and 5 -- basically incrementing by 1 \n",
    "\n",
    "#move to index 1 & repeat \n",
    "\n",
    "for i in boxes:\n",
    "    for j in boxes:\n",
    "        print(i,j)\n",
    "\n",
    "#NESTED LOOPS: O(n * n) = O(n^2)\n"
   ]
  },
  {
   "cell_type": "code",
   "execution_count": null,
   "metadata": {},
   "outputs": [],
   "source": []
  }
 ],
 "metadata": {
  "kernelspec": {
   "display_name": "Python 3",
   "language": "python",
   "name": "python3"
  },
  "language_info": {
   "codemirror_mode": {
    "name": "ipython",
    "version": 3
   },
   "file_extension": ".py",
   "mimetype": "text/x-python",
   "name": "python",
   "nbconvert_exporter": "python",
   "pygments_lexer": "ipython3",
   "version": "3.7.6"
  }
 },
 "nbformat": 4,
 "nbformat_minor": 4
}
