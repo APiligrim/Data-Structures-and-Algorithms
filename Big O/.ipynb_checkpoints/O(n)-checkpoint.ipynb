{
 "cells": [
  {
   "cell_type": "markdown",
   "metadata": {},
   "source": [
    "# Calculate Big O: How quickly the Runtime is\n",
    "\n",
    "### Example 1 - Finding Nemo \n"
   ]
  },
  {
   "cell_type": "code",
   "execution_count": null,
   "metadata": {},
   "outputs": [],
   "source": [
    "import numpy as np\n",
    "nemo =['nemo']\n",
    "everyone=['dory', 'bruce', 'martin','nemo', 'gill','bloat','nigel']\n",
    "large = np.arange(10)\n",
    "\n",
    "def findnemo(array):\n",
    "    if any(\"nemo\" in x for x in array):\n",
    "        print('Found NEMO!')\n",
    "    else:\n",
    "        print('none is found')\n",
    "print(findnemo(nemo))\n",
    "print(findnemo(everyone))"
   ]
  },
  {
   "cell_type": "markdown",
   "metadata": {},
   "source": [
    "\n",
    "# How to measure efficiency?\n",
    "\n",
    "### Big O - determine the scalability of the code\n"
   ]
  },
  {
   "cell_type": "markdown",
   "metadata": {},
   "source": [
    "![]( https://miro.medium.com/max/1200/1*_nsMVEEkIr1CH8aHjTNbzA.jpeg)"
   ]
  },
  {
   "cell_type": "markdown",
   "metadata": {},
   "source": [
    "The more elements or \"nemos\" , as it increases, the number of things we do in the loop increases as well\n",
    "\n",
    "### Big O & Scalibility --- when we go bigger with our input, how much does the algorithm slow down?\n",
    "\n",
    "### The Faster, the Better\n",
    "\n",
    "You can count the number of operations your function performs in order to calclulate how efficient the program is.\n",
    "- Ex: 5 items in a list, then loop happens 5 times so this is 5 operations. \n",
    "- Finding Nemo notation has O(n) -- Linear Time bc O(100) or O(1000) the size and the number of operations would be scalable\n",
    "\n"
   ]
  },
  {
   "cell_type": "markdown",
   "metadata": {},
   "source": [
    "# O(n) - Linear time aka. Proportional\n",
    "\n",
    "O(n) means the number of operations and the number of elements from the input are scalable almost at the same rate (proportional)"
   ]
  },
  {
   "cell_type": "code",
   "execution_count": null,
   "metadata": {},
   "outputs": [],
   "source": []
  }
 ],
 "metadata": {
  "kernelspec": {
   "display_name": "Python 3",
   "language": "python",
   "name": "python3"
  },
  "language_info": {
   "codemirror_mode": {
    "name": "ipython",
    "version": 3
   },
   "file_extension": ".py",
   "mimetype": "text/x-python",
   "name": "python",
   "nbconvert_exporter": "python",
   "pygments_lexer": "ipython3",
   "version": "3.7.6"
  }
 },
 "nbformat": 4,
 "nbformat_minor": 4
}
