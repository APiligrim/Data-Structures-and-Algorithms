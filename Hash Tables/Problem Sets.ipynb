{
 "cells": [
  {
   "cell_type": "markdown",
   "metadata": {},
   "source": [
    "# Problem 1: Design HashSet \n",
    "\n",
    "Design a HashSet without using any built-in hash table libraries.\n",
    "\n",
    "To be specific, your design should include these functions:\n",
    "\n",
    "add(value): Insert a value into the HashSet.     \n",
    "contains(value) : Return whether the value exists in the HashSet or not.     \n",
    "remove(value): Remove a value in the HashSet.   \n",
    "If the value does not exist in the HashSet, do nothing.   \n",
    "\n",
    "**Example:**\n",
    "\n",
    "MyHashSet hashSet = new MyHashSet();\n",
    "hashSet.add(1);         \n",
    "hashSet.add(2);         \n",
    "hashSet.contains(1);    // returns true\n",
    "hashSet.contains(3);    // returns false (not found)\n",
    "hashSet.add(2);          \n",
    "hashSet.contains(2);    // returns true\n",
    "hashSet.remove(2);          \n",
    "hashSet.contains(2);    // returns false (already removed)"
   ]
  },
  {
   "cell_type": "markdown",
   "metadata": {},
   "source": [
    "### Solution tutorial using Multiplicative hashing:\n",
    " https://leetcode.com/problems/design-hashset/discuss/768659/Python-Easy-Multiplicative-Hash-explained    \n",
    " \n",
    "Here we use the following notations:\n",
    "\n",
    "1. K is our number (key), we want to hash. \n",
    "\n",
    "2. a is some big odd number (sometimes good idea to use prime number) I choose a = 1031237 without any special reason, it is just random odd number.   \n",
    "\n",
    "3. m is length in bits of output we wan to have. We are given, that we have no more than 10000 operations overall, so we can choose such m, so that 2^m > 10000. I chose m = 15, so in this case we have less collistions.    \n",
    "\n",
    "4. if you go to wikipedia, you can read that w is size of machine word. Here we do not really matter, what is this size, we can choose any w > m. I chose m = 20.  "
   ]
  },
  {
   "cell_type": "code",
   "execution_count": null,
   "metadata": {},
   "outputs": [],
   "source": [
    "class MyHashSet: \n",
    "    def new_hash(self, key):\n",
    "        #the 103137 is a random big prime number you can pick\n",
    "        return ((key*103137) & (1<<20)-1)>>5\n",
    "    \n",
    "    def __init__(self):\n",
    "        self.arr=[[]for _ in range(1<<15)]\n",
    "        \n",
    "    def add(self, key:int)-> None:\n",
    "        t = self.new_hash(key)\n",
    "        if key not in self.arr[t]:\n",
    "            self.arr[t].append(key)\n",
    "    \n",
    "    def remove(self, key:int)->None:\n",
    "        t = self.new_hash(key)\n",
    "        if key in self.arr[t]:\n",
    "            self.arr[t].remove(key)\n",
    "    \n",
    "    def contains(self,key:int)->bool: \n",
    "        t = self.new_hash(key)\n",
    "        return key in self.arr[t]\n",
    "            \n",
    "    "
   ]
  },
  {
   "cell_type": "code",
   "execution_count": null,
   "metadata": {},
   "outputs": [],
   "source": [
    "#practice hashtables\n",
    "class Hashtable:\n",
    "    def __init__(self):\n",
    "        self.bucket = 16\n",
    "        self.hashmap=[[] for i in range(self.bucket)]\n",
    "        \n",
    "    def __str__(self):\n",
    "        return str(self.__dict__)\n",
    "    \n",
    "    def hash(self, key):\n",
    "        return len(key) % self.bucket\n",
    "    \n",
    "    def put(self, key):\n",
    "        hash_value=self.hash(key)\n",
    "        reference = hashmap[hash_value]"
   ]
  },
  {
   "cell_type": "markdown",
   "metadata": {},
   "source": [
    "# First Recurring Character\n",
    "\n",
    "Given an array, give the 1st reccuring character.\n",
    "\n",
    "*** Example***  \n",
    "input: array = [2,5,1,2,3,5,1,2,4]   \n",
    "output: 2  \n",
    "     \n",
    "*** Example***   \n",
    "input: array = [2,1,1,2,3,5,1,2,4]  \n",
    "output: 1  \n",
    "\n",
    "*** Example***   \n",
    "input: array = [2,3,4,5]  \n",
    "output: undefined  "
   ]
  },
  {
   "cell_type": "code",
   "execution_count": 9,
   "metadata": {},
   "outputs": [
    {
     "name": "stdout",
     "output_type": "stream",
     "text": [
      "2\n"
     ]
    }
   ],
   "source": [
    "#create a hash map that takes in the array and assigns keys to the indexes from the array\n",
    "#if the first key has a repeating key in the array, count it and assign to the value\n",
    "# return that first key\n",
    "\n",
    "#Brute force: \n",
    "#create 2 loops and compare the first and the next number to each other\n",
    "#the first thats the same will get printed\n",
    "#but this is O(n^2)\n",
    "def firstRecurringCharacter(arr):\n",
    "    for i in range(len(arr)):\n",
    "        for j in range(len(arr)):\n",
    "            if arr[i]==arr[j]:\n",
    "                return arr[i]\n",
    "    return False\n",
    "print(firstRecurringCharacter([2,5,1,2,3,5,1,2,4]))"
   ]
  },
  {
   "cell_type": "code",
   "execution_count": 2,
   "metadata": {},
   "outputs": [
    {
     "name": "stdout",
     "output_type": "stream",
     "text": [
      "5\n"
     ]
    }
   ],
   "source": [
    "#solution 2: hashtables solution \n",
    "#add the items to a hashtable & check if the proerty already exists\n",
    "#the keys in the hashtable will be unique\n",
    "def firstRecurringCharacter(arr):\n",
    "    hashtable={}\n",
    "    for i in range(len(arr)):\n",
    "        if arr[i] in hashtable:\n",
    "            return arr[i] #\n",
    "        else:\n",
    "            hashtable[arr[i]]=i\n",
    "    return 0\n",
    "#O(n) time but increased space complexity by creating hashtable={} \n",
    "print(firstRecurringCharacter([2,5,5,1,2,3,5,1,2,4]))"
   ]
  },
  {
   "cell_type": "markdown",
   "metadata": {},
   "source": [
    "# Two Strings\n",
    "### Function Description\n",
    "\n",
    "Complete the function twoStrings in the editor below. It should return a string, either YES or NO based on whether the strings share a common substring.\n",
    "\n",
    "twoStrings has the following parameter(s):\n",
    "\n",
    "s1, s2: two strings to analyze .\n",
    "Input Format\n",
    "\n",
    "The first line contains a single integer , the number of test cases.\n",
    "\n",
    "The following  pairs of lines are as follows:\n",
    "\n",
    "The first line contains string .\n",
    "The second line contains string .\n",
    "Constraints\n",
    "\n",
    " and  consist of characters in the range ascii[a-z].\n",
    "Output Format\n",
    "\n",
    "For each pair of strings, return YES or NO.\n",
    "\n",
    "### strategy"
   ]
  },
  {
   "cell_type": "markdown",
   "metadata": {},
   "source": [
    "# Complete the twoStrings function below.\n",
    "def twoStrings(s1, s2):\n",
    "    list1=len(s1)\n",
    "    list2=len(s2)\n",
    "    a1=list(s1)\n",
    "    a2=list(s2)\n",
    "    str1= [None for index in range(list1)]\n",
    "    str2= [None for index in range(list2)]\n",
    "\n",
    "    str1.add(a1)\n",
    "    print(str1)\n",
    "    print(a1)\n",
    "s1='abc'\n",
    "s2='ab'\n",
    "\n",
    "twoStrings(s1, s2)"
   ]
  },
  {
   "cell_type": "code",
   "execution_count": 14,
   "metadata": {},
   "outputs": [
    {
     "data": {
      "text/plain": [
       "'YES'"
      ]
     },
     "execution_count": 14,
     "metadata": {},
     "output_type": "execute_result"
    }
   ],
   "source": [
    "def twoStrings(s1, s2):\n",
    "    set1= set()\n",
    "    set2=set()\n",
    "\n",
    "    for i in s1: \n",
    "        set1.add(i)\n",
    "\n",
    "    for i in s2:\n",
    "        set2.add(i)\n",
    "    \n",
    "    #if set1 is similar to set2 print\"YES\" else print \"NO\"\n",
    "    if set1.isdisjoint(set2) ==False:\n",
    "        #isdisjoint - checks if both sets ARE different from each other\n",
    "        return \"YES\" #in this case if they are NOT different, the program will print YES\n",
    "    else:\n",
    "        return \"NO\"\n",
    "s1='abc'\n",
    "s2='ab'\n",
    "\n",
    "twoStrings(s1, s2)"
   ]
  },
  {
   "cell_type": "code",
   "execution_count": null,
   "metadata": {},
   "outputs": [],
   "source": []
  }
 ],
 "metadata": {
  "kernelspec": {
   "display_name": "Python 3",
   "language": "python",
   "name": "python3"
  },
  "language_info": {
   "codemirror_mode": {
    "name": "ipython",
    "version": 3
   },
   "file_extension": ".py",
   "mimetype": "text/x-python",
   "name": "python",
   "nbconvert_exporter": "python",
   "pygments_lexer": "ipython3",
   "version": "3.7.6"
  }
 },
 "nbformat": 4,
 "nbformat_minor": 4
}
