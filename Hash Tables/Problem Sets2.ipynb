{
 "cells": [
  {
   "cell_type": "markdown",
   "metadata": {},
   "source": [
    " nyc_weather.csv contains new york city weather for first few days in the month of January.\n",
    " # Write a program that can answer following\n",
    "1. What was the average temperature in first week of Jan\n",
    "2. What was the maximum temperature in first 10 days of Jan \n",
    "\n",
    "Figure out data structure that is best for this problem"
   ]
  },
  {
   "cell_type": "code",
   "execution_count": 17,
   "metadata": {},
   "outputs": [
    {
     "name": "stdout",
     "output_type": "stream",
     "text": [
      "Invalid temp. Ignore the row\n"
     ]
    }
   ],
   "source": [
    "\n",
    "weather=[]\n",
    "    \n",
    "with open(\"nyc_weather.csv\",\"r\") as f:\n",
    "#file2=next(file)\n",
    "    for line in f:\n",
    "        tokens=line.split(',')\n",
    "        try:\n",
    "            temperature = int(tokens[1])\n",
    "            weather.append(temperature)\n",
    "        except: \n",
    "            print(\"Invalid temp. Ignore the row\")\n",
    "    \n"
   ]
  },
  {
   "cell_type": "code",
   "execution_count": 18,
   "metadata": {},
   "outputs": [
    {
     "data": {
      "text/plain": [
       "[27, 31, 23, 34, 37, 38, 29, 30, 35, 30]"
      ]
     },
     "execution_count": 18,
     "metadata": {},
     "output_type": "execute_result"
    }
   ],
   "source": [
    "weather"
   ]
  },
  {
   "cell_type": "markdown",
   "metadata": {},
   "source": [
    "#### Average temperature in the first week of January:"
   ]
  },
  {
   "cell_type": "code",
   "execution_count": 22,
   "metadata": {},
   "outputs": [
    {
     "name": "stdout",
     "output_type": "stream",
     "text": [
      "[27, 31, 23, 34, 37, 38, 29]\n"
     ]
    },
    {
     "data": {
      "text/plain": [
       "31.285714285714285"
      ]
     },
     "execution_count": 22,
     "metadata": {},
     "output_type": "execute_result"
    }
   ],
   "source": [
    "arr=weather[0:7]\n",
    "print(arr)\n",
    "average=sum(arr)/7\n",
    "average"
   ]
  },
  {
   "cell_type": "markdown",
   "metadata": {},
   "source": [
    "#### Max temperature in the first 10 days of January:"
   ]
  },
  {
   "cell_type": "code",
   "execution_count": 23,
   "metadata": {},
   "outputs": [
    {
     "data": {
      "text/plain": [
       "38"
      ]
     },
     "execution_count": 23,
     "metadata": {},
     "output_type": "execute_result"
    }
   ],
   "source": [
    "arr=weather[0:9]\n",
    "maxi = max(arr)\n",
    "maxi"
   ]
  },
  {
   "cell_type": "markdown",
   "metadata": {},
   "source": [
    "#### The best data structure here was a list because we can easliy access the items and find the average "
   ]
  },
  {
   "cell_type": "markdown",
   "metadata": {},
   "source": [
    "##### nyc_weather.csv contains new york city weather for first few days in the month of January. Write a program that can answer following,\n",
    "\n",
    "  (a) What was the temperature on Jan 9?\n",
    "\n",
    "  (b) What was the temperature on Jan 4?\n",
    "\n",
    "  Figure out data structure that is best for this problem"
   ]
  },
  {
   "cell_type": "code",
   "execution_count": 32,
   "metadata": {},
   "outputs": [
    {
     "name": "stdout",
     "output_type": "stream",
     "text": [
      "Invalid temperature.Ignore now\n"
     ]
    }
   ],
   "source": [
    "#since its asking for a specific key, value, we can use dictionary since \n",
    "#its O(1) to access a specific element\n",
    "\n",
    "#set 1 - create a dictionary \n",
    "weather_dict={}\n",
    "with open(\"nyc_weather.csv\", \"r\") as f: \n",
    "    for line in f: \n",
    "        tokens = line.split(\",\")\n",
    "        day = tokens[0] #key value is == to column 1\n",
    "        try: \n",
    "            temperature = int(tokens[1])#column 2 is the value\n",
    "            weather_dict[day] = temperature #add the key values to the dict\n",
    "        except: \n",
    "            print(\"Invalid temperature.Ignore now\")\n",
    "         "
   ]
  },
  {
   "cell_type": "code",
   "execution_count": 33,
   "metadata": {},
   "outputs": [
    {
     "name": "stdout",
     "output_type": "stream",
     "text": [
      "{'Jan 1': 27, 'Jan 2': 31, 'Jan 3': 23, 'Jan 4': 34, 'Jan 5': 37, 'Jan 6': 38, 'Jan 7': 29, 'Jan 8': 30, 'Jan 9': 35, 'Jan 10': 30}\n"
     ]
    }
   ],
   "source": [
    "print(weather_dict) "
   ]
  },
  {
   "cell_type": "code",
   "execution_count": 37,
   "metadata": {},
   "outputs": [
    {
     "data": {
      "text/plain": [
       "35"
      ]
     },
     "execution_count": 37,
     "metadata": {},
     "output_type": "execute_result"
    }
   ],
   "source": [
    "weather_dict['Jan 9']"
   ]
  },
  {
   "cell_type": "code",
   "execution_count": 36,
   "metadata": {},
   "outputs": [
    {
     "data": {
      "text/plain": [
       "34"
      ]
     },
     "execution_count": 36,
     "metadata": {},
     "output_type": "execute_result"
    }
   ],
   "source": [
    "weather_dict['Jan 4']"
   ]
  },
  {
   "cell_type": "markdown",
   "metadata": {},
   "source": [
    "##### the best data structure here was a dictionary because it takes O(1) time & space to access elements from the whole entire dictionary where as for a list, it would be O(n) since we have to go trhough the whole array"
   ]
  },
  {
   "cell_type": "code",
   "execution_count": null,
   "metadata": {},
   "outputs": [],
   "source": []
  }
 ],
 "metadata": {
  "kernelspec": {
   "display_name": "Python 3",
   "language": "python",
   "name": "python3"
  },
  "language_info": {
   "codemirror_mode": {
    "name": "ipython",
    "version": 3
   },
   "file_extension": ".py",
   "mimetype": "text/x-python",
   "name": "python",
   "nbconvert_exporter": "python",
   "pygments_lexer": "ipython3",
   "version": "3.7.6"
  }
 },
 "nbformat": 4,
 "nbformat_minor": 2
}
