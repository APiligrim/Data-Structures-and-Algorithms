{
 "cells": [
  {
   "cell_type": "markdown",
   "metadata": {},
   "source": [
    "# Implementing a Hash Table \n",
    "\n",
    "1. Create an array with a bucket soze - which is received from the load factor\n",
    "\n",
    "\n",
    "2. The **load factor** is a mesure that decides when to increase the HashMap  capacity to maintain the get() and put() operation complety of O(1)  \n",
    "\n",
    "\n",
    "3. The defualt load factor of HashMap is 0.75f (75% of the map size).\n",
    "\n",
    "\n",
    "4. ***Load Factor = (n/k)*** where n is the number of max number of elements that can be stored dict & k is the bucket size\n",
    "\n",
    "\n",
    "6. Optimal Load factor is around 2/3 such that the effect of hash collision sis minimum "
   ]
  },
  {
   "cell_type": "code",
   "execution_count": 6,
   "metadata": {},
   "outputs": [
    {
     "name": "stdout",
     "output_type": "stream",
     "text": [
      "1000\n",
      "{'bucket': 16, 'hashmap': [[], [], [], [], [], [], [['grapes', 1000], ['apples', 10], ['banana', 100]], [['oranges', 230]], [], [], [], [], [], [], [], []]}\n",
      "{'bucket': 16, 'hashmap': [[], [], [], [], [], [], [['grapes', 1000], ['apples', 10], ['banana', 100]], [['oranges', 230]], [], [], [], [], [], [], [], []]}\n"
     ]
    }
   ],
   "source": [
    "class Hashtable: \n",
    "    def __init__(self):\n",
    "        self.bucket = 16\n",
    "        self.hashmap=[[] for i in range(self.bucket)]\n",
    "    def __str__(self):\n",
    "        return str(self.__dict__)\n",
    "    def hash(self, key):\n",
    "        return len(key)% self.bucket\n",
    "    def put (self, key, value):\n",
    "        #value already may be present\n",
    "        \n",
    "        hash_value = self.hash(key)\n",
    "        reference = self.hashmap[hash_value]\n",
    "        for i in range(len(reference)):\n",
    "            if reference[i][0]==key:\n",
    "                reference[i][1]=value\n",
    "                return None \n",
    "        reference.append([key,value])\n",
    "        return None\n",
    "    def get(self, key):\n",
    "        #returns the value to which the specified key is mapped, or -1 if this map contains no mapping for the key\n",
    "        hash_value = self.hash(key)\n",
    "        reference = self.hashmap[hash_value]\n",
    "        for i in range(len(reference)):\n",
    "            if reference[i][0]==key:\n",
    "                return reference[i][1]\n",
    "        return -1\n",
    "    def remove(self, key):\n",
    "        #remove the mapping of the specified valye key if this map contains a mapping for the key\n",
    "        hash_value = self.hash(key)\n",
    "        reference = self.hashmap[hash_value]\n",
    "        for i in range(len(reference)):\n",
    "            if reference[i][0] ==key:\n",
    "                reference.pop(i)\n",
    "        return None \n",
    "    \n",
    "h=Hashtable()\n",
    "h.put('grapes', 1000)\n",
    "h.put('apples', 10)\n",
    "h.put('oranges',230)\n",
    "h.put('banana', 100)\n",
    "print(h.get('grapes'))\n",
    "print(h)\n",
    "#h.remove('apples')\n",
    "print(h)"
   ]
  },
  {
   "cell_type": "code",
   "execution_count": null,
   "metadata": {},
   "outputs": [],
   "source": []
  }
 ],
 "metadata": {
  "kernelspec": {
   "display_name": "Python 3",
   "language": "python",
   "name": "python3"
  },
  "language_info": {
   "codemirror_mode": {
    "name": "ipython",
    "version": 3
   },
   "file_extension": ".py",
   "mimetype": "text/x-python",
   "name": "python",
   "nbconvert_exporter": "python",
   "pygments_lexer": "ipython3",
   "version": "3.7.6"
  }
 },
 "nbformat": 4,
 "nbformat_minor": 4
}
