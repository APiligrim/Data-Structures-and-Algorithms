{
 "cells": [
  {
   "cell_type": "markdown",
   "metadata": {},
   "source": [
    "# Implementing a Hash Table \n",
    "\n",
    "1. Create an array with a bucket soze - which is received from the load factor\n",
    "\n",
    "\n",
    "2. The **load factor** is a mesure that decides when to increase the HashMap  capacity to maintain the get() and put() operation complety of O(1)  \n",
    "\n",
    "\n",
    "3. The defualt load factor of HashMap is 0.75f (75% of the map size).\n",
    "\n",
    "\n",
    "4. ***Load Factor = (n/k)*** where n is the number of max number of elements that can be stored dict & k is the bucket size\n",
    "\n",
    "\n",
    "6. Optimal Load factor is around 2/3 such that the effect of hash collision sis minimum "
   ]
  },
  {
   "cell_type": "code",
   "execution_count": 3,
   "metadata": {},
   "outputs": [
    {
     "name": "stdout",
     "output_type": "stream",
     "text": [
      "1000\n",
      "{'bucket': 16, 'hashmap': [[], [], [], [], [], [], [['grapes', 1000], ['apples', 10], ['banana', 100]], [['oranges', 230]], [], [], [], [], [], [], [], []]}\n",
      "{'bucket': 16, 'hashmap': [[], [], [], [], [], [], [['grapes', 1000], ['apples', 10], ['banana', 100]], [['oranges', 230]], [], [], [], [], [], [], [], []]}\n"
     ]
    }
   ],
   "source": [
    "class Hashtable: \n",
    "    def __init__(self):\n",
    "        self.bucket = 16\n",
    "        self.hashmap=[[] for i in range(self.bucket)]\n",
    "        \n",
    "    def __str__(self):\n",
    "        return str(self.__dict__)\n",
    "    \n",
    "    def hash(self, key):\n",
    "        return len(key)% self.bucket\n",
    "    \n",
    "    def put (self, key, value):\n",
    "        #value already may be present\n",
    "        \n",
    "        hash_value = self.hash(key) #put \"grapes key here\"\n",
    "        reference = self.hashmap[hash_value]\n",
    "        for i in range(len(reference)):\n",
    "            if reference[i][0]==key: #if it exists, put the value to it\n",
    "                reference[i][1]=value\n",
    "                return None \n",
    "        reference.append([key,value]) #add the value to the \"grapes\"\n",
    "        return None\n",
    "    \n",
    "    def get(self, key):\n",
    "        #returns the value to which the specified key is mapped, or -1 if this map contains no mapping for the key\n",
    "        hash_value = self.hash(key)\n",
    "        reference = self.hashmap[hash_value]\n",
    "        for i in range(len(reference)):\n",
    "            if reference[i][0]==key:\n",
    "                return reference[i][1] #return the value of the key!!!\n",
    "        return -1\n",
    "    def remove(self, key):\n",
    "        #remove the mapping of the specified valye key if this map contains a mapping for the key\n",
    "        hash_value = self.hash(key)\n",
    "        reference = self.hashmap[hash_value]\n",
    "        for i in range(len(reference)):\n",
    "            if reference[i][0] ==key:\n",
    "                reference.pop(i)\n",
    "        return None \n",
    "\n",
    "                \n",
    "h=Hashtable()\n",
    "h.put('grapes', 1000)\n",
    "h.put('apples', 10)\n",
    "h.put('oranges',230)\n",
    "h.put('banana', 100)\n",
    "print(h.get('grapes'))\n",
    "print(h)\n",
    "#h.remove('apples')\n",
    "print(h)"
   ]
  },
  {
   "cell_type": "markdown",
   "metadata": {},
   "source": [
    "# Another Way: Multiplicative hashing\n",
    "\n",
    "The idea is to have hash function in the following form.\n",
    "\n",
    "![](https://lowrey.me/content/images/2018/04/kDEZz-1-.png)\n",
    "\n",
    "Link to the tutorial: https://leetcode.com/problems/design-hashset/discuss/768659/Python-Easy-Multiplicative-Hash-explained"
   ]
  },
  {
   "cell_type": "markdown",
   "metadata": {},
   "source": [
    "# Hash Function Number 2 Using the Mode option"
   ]
  },
  {
   "cell_type": "code",
   "execution_count": 1,
   "metadata": {},
   "outputs": [],
   "source": [
    "def get_hash(key):\n",
    "    h = 0 \n",
    "    for char in key: \n",
    "        h+= ord(char)# get the number of the caracter\n",
    "    return h % 100 #get mode of that list \n"
   ]
  },
  {
   "cell_type": "code",
   "execution_count": 4,
   "metadata": {},
   "outputs": [
    {
     "data": {
      "text/plain": [
       "61"
      ]
     },
     "execution_count": 4,
     "metadata": {},
     "output_type": "execute_result"
    }
   ],
   "source": [
    "get_hash('march 28')"
   ]
  },
  {
   "cell_type": "code",
   "execution_count": 2,
   "metadata": {},
   "outputs": [
    {
     "data": {
      "text/plain": [
       "97"
      ]
     },
     "execution_count": 2,
     "metadata": {},
     "output_type": "execute_result"
    }
   ],
   "source": [
    "ord('a') #ord guves you the number of that letter"
   ]
  },
  {
   "cell_type": "code",
   "execution_count": 53,
   "metadata": {},
   "outputs": [],
   "source": [
    "class HashTable: \n",
    "    def __init__(self):\n",
    "        self.MAX = 100\n",
    "        #size of the array which is 100\n",
    "        self.arr=[None for i in range(self.MAX)]\n",
    "        \n",
    "    def get_hash(self, key):\n",
    "        #add the character numbers to the h as a Mode of the max list\n",
    "        h=0\n",
    "        for char in key: \n",
    "            h+=ord(char)\n",
    "        return h %self.MAX\n",
    "    \n",
    "    def __setitem__(self, key, val):\n",
    "        h = self.get_hash(key)\n",
    "        self.arr[h] =val\n",
    "        \n",
    "    def __getitem__(self, key):\n",
    "        h = self.get_hash(key)\n",
    "        return self.arr[h] #return the value from that array at that key\n",
    "    \n",
    "    def __delitem__(self, key):\n",
    "        h = self.get_hash(key)\n",
    "        self.arr[h] =None # return None for the value since we are deleting it"
   ]
  },
  {
   "cell_type": "code",
   "execution_count": 46,
   "metadata": {},
   "outputs": [],
   "source": [
    "t = HashTable()\n",
    "#t.add('march 6',130) # march 6 translates to 9 and we put 130 to the 9th index\n",
    "\n",
    "#to make this work, we added __setitem__ and __getitem__ operators that override the t.get('march 1')\n",
    "# replace to t['march 2'] =20\n",
    "t['march 2']=20\n",
    "t['march 1'] =130\n",
    "del t['march 2']\n",
    "t['march 9']=34"
   ]
  },
  {
   "cell_type": "code",
   "execution_count": 47,
   "metadata": {},
   "outputs": [],
   "source": [
    "t['march 2']\n"
   ]
  },
  {
   "cell_type": "code",
   "execution_count": 48,
   "metadata": {},
   "outputs": [
    {
     "data": {
      "text/plain": [
       "[None,\n",
       " None,\n",
       " None,\n",
       " None,\n",
       " 130,\n",
       " None,\n",
       " None,\n",
       " None,\n",
       " None,\n",
       " None,\n",
       " None,\n",
       " None,\n",
       " 34,\n",
       " None,\n",
       " None,\n",
       " None,\n",
       " None,\n",
       " None,\n",
       " None,\n",
       " None,\n",
       " None,\n",
       " None,\n",
       " None,\n",
       " None,\n",
       " None,\n",
       " None,\n",
       " None,\n",
       " None,\n",
       " None,\n",
       " None,\n",
       " None,\n",
       " None,\n",
       " None,\n",
       " None,\n",
       " None,\n",
       " None,\n",
       " None,\n",
       " None,\n",
       " None,\n",
       " None,\n",
       " None,\n",
       " None,\n",
       " None,\n",
       " None,\n",
       " None,\n",
       " None,\n",
       " None,\n",
       " None,\n",
       " None,\n",
       " None,\n",
       " None,\n",
       " None,\n",
       " None,\n",
       " None,\n",
       " None,\n",
       " None,\n",
       " None,\n",
       " None,\n",
       " None,\n",
       " None,\n",
       " None,\n",
       " None,\n",
       " None,\n",
       " None,\n",
       " None,\n",
       " None,\n",
       " None,\n",
       " None,\n",
       " None,\n",
       " None,\n",
       " None,\n",
       " None,\n",
       " None,\n",
       " None,\n",
       " None,\n",
       " None,\n",
       " None,\n",
       " None,\n",
       " None,\n",
       " None,\n",
       " None,\n",
       " None,\n",
       " None,\n",
       " None,\n",
       " None,\n",
       " None,\n",
       " None,\n",
       " None,\n",
       " None,\n",
       " None,\n",
       " None,\n",
       " None,\n",
       " None,\n",
       " None,\n",
       " None,\n",
       " None,\n",
       " None,\n",
       " None,\n",
       " None,\n",
       " None]"
      ]
     },
     "execution_count": 48,
     "metadata": {},
     "output_type": "execute_result"
    }
   ],
   "source": [
    "t.arr"
   ]
  },
  {
   "cell_type": "markdown",
   "metadata": {},
   "source": [
    "# How to Handle Collisions\n",
    "\n",
    "## Approach 1: Use Linked Lists\n",
    "## Approach 2: Linear Probing"
   ]
  },
  {
   "cell_type": "code",
   "execution_count": 57,
   "metadata": {},
   "outputs": [],
   "source": [
    "class HashTable:\n",
    "    def __init__(self):\n",
    "        self.MAX = 100\n",
    "        self.arr = [None for i in range(self.MAX)]\n",
    "    \n",
    "    def get_hash(self, key):\n",
    "        h = 0\n",
    "        for char in key:\n",
    "            h += ord(key)\n",
    "        return h % self.MAX #return the module of the array size \n",
    "    \n",
    "    def __setitem__(self, key, value):\n",
    "        h = self.get_hash(key)\n",
    "        for idx, element in enumerate(self.arr[h]):\n",
    "            \n",
    "            #scenerio 1: if the key exisits , you are just modifying the key value pair\n",
    "            if len(element)==2 and element[0]==key:\n",
    "                self.arr[h][idx] = (key, val)\n",
    "                found = True\n",
    "                break \n",
    "            if not found: \n",
    "                self.arr[h].append((key,val))\n",
    "        #arr[h] = value \n",
    "        \n",
    "    def __getitem__(self, key):\n",
    "        h = self.get_hash(key)\n",
    "        return self.arr[h]\n",
    "        \n",
    "    def __delitem__(self, key):\n",
    "        h = self.get_hash(key) #get the key \n",
    "        self.arr[h]=None #delete the key"
   ]
  },
  {
   "cell_type": "code",
   "execution_count": 58,
   "metadata": {},
   "outputs": [],
   "source": [
    "t = HashTable()"
   ]
  },
  {
   "cell_type": "code",
   "execution_count": 59,
   "metadata": {},
   "outputs": [
    {
     "ename": "TypeError",
     "evalue": "ord() expected a character, but string of length 7 found",
     "output_type": "error",
     "traceback": [
      "\u001b[1;31m---------------------------------------------------------------------------\u001b[0m",
      "\u001b[1;31mTypeError\u001b[0m                                 Traceback (most recent call last)",
      "\u001b[1;32m<ipython-input-59-3ab8faa99285>\u001b[0m in \u001b[0;36m<module>\u001b[1;34m\u001b[0m\n\u001b[1;32m----> 1\u001b[1;33m \u001b[0mt\u001b[0m\u001b[1;33m[\u001b[0m\u001b[1;34m\"march 6\"\u001b[0m\u001b[1;33m]\u001b[0m\u001b[1;33m=\u001b[0m \u001b[1;36m120\u001b[0m\u001b[1;33m\u001b[0m\u001b[1;33m\u001b[0m\u001b[0m\n\u001b[0m\u001b[0;32m      2\u001b[0m \u001b[0mt\u001b[0m\u001b[1;33m[\u001b[0m\u001b[1;34m\"march 8\"\u001b[0m\u001b[1;33m]\u001b[0m\u001b[1;33m=\u001b[0m\u001b[1;36m78\u001b[0m\u001b[1;33m\u001b[0m\u001b[1;33m\u001b[0m\u001b[0m\n\u001b[0;32m      3\u001b[0m \u001b[0mt\u001b[0m\u001b[1;33m[\u001b[0m\u001b[1;34m\"march 9\"\u001b[0m\u001b[1;33m]\u001b[0m\u001b[1;33m=\u001b[0m\u001b[1;36m4\u001b[0m\u001b[1;33m\u001b[0m\u001b[1;33m\u001b[0m\u001b[0m\n",
      "\u001b[1;32m<ipython-input-57-cd1a841e069e>\u001b[0m in \u001b[0;36m__setitem__\u001b[1;34m(self, key, value)\u001b[0m\n\u001b[0;32m     11\u001b[0m \u001b[1;33m\u001b[0m\u001b[0m\n\u001b[0;32m     12\u001b[0m     \u001b[1;32mdef\u001b[0m \u001b[0m__setitem__\u001b[0m\u001b[1;33m(\u001b[0m\u001b[0mself\u001b[0m\u001b[1;33m,\u001b[0m \u001b[0mkey\u001b[0m\u001b[1;33m,\u001b[0m \u001b[0mvalue\u001b[0m\u001b[1;33m)\u001b[0m\u001b[1;33m:\u001b[0m\u001b[1;33m\u001b[0m\u001b[1;33m\u001b[0m\u001b[0m\n\u001b[1;32m---> 13\u001b[1;33m         \u001b[0mh\u001b[0m \u001b[1;33m=\u001b[0m \u001b[0mself\u001b[0m\u001b[1;33m.\u001b[0m\u001b[0mget_hash\u001b[0m\u001b[1;33m(\u001b[0m\u001b[0mkey\u001b[0m\u001b[1;33m)\u001b[0m\u001b[1;33m\u001b[0m\u001b[1;33m\u001b[0m\u001b[0m\n\u001b[0m\u001b[0;32m     14\u001b[0m         \u001b[1;32mfor\u001b[0m \u001b[0midx\u001b[0m\u001b[1;33m,\u001b[0m \u001b[0melement\u001b[0m \u001b[1;32min\u001b[0m \u001b[0menumerate\u001b[0m\u001b[1;33m(\u001b[0m\u001b[0mself\u001b[0m\u001b[1;33m.\u001b[0m\u001b[0marr\u001b[0m\u001b[1;33m[\u001b[0m\u001b[0mh\u001b[0m\u001b[1;33m]\u001b[0m\u001b[1;33m)\u001b[0m\u001b[1;33m:\u001b[0m\u001b[1;33m\u001b[0m\u001b[1;33m\u001b[0m\u001b[0m\n\u001b[0;32m     15\u001b[0m \u001b[1;33m\u001b[0m\u001b[0m\n",
      "\u001b[1;32m<ipython-input-57-cd1a841e069e>\u001b[0m in \u001b[0;36mget_hash\u001b[1;34m(self, key)\u001b[0m\n\u001b[0;32m      7\u001b[0m         \u001b[0mh\u001b[0m \u001b[1;33m=\u001b[0m \u001b[1;36m0\u001b[0m\u001b[1;33m\u001b[0m\u001b[1;33m\u001b[0m\u001b[0m\n\u001b[0;32m      8\u001b[0m         \u001b[1;32mfor\u001b[0m \u001b[0mchar\u001b[0m \u001b[1;32min\u001b[0m \u001b[0mkey\u001b[0m\u001b[1;33m:\u001b[0m\u001b[1;33m\u001b[0m\u001b[1;33m\u001b[0m\u001b[0m\n\u001b[1;32m----> 9\u001b[1;33m             \u001b[0mh\u001b[0m \u001b[1;33m+=\u001b[0m \u001b[0mord\u001b[0m\u001b[1;33m(\u001b[0m\u001b[0mkey\u001b[0m\u001b[1;33m)\u001b[0m\u001b[1;33m\u001b[0m\u001b[1;33m\u001b[0m\u001b[0m\n\u001b[0m\u001b[0;32m     10\u001b[0m         \u001b[1;32mreturn\u001b[0m \u001b[0mh\u001b[0m \u001b[1;33m%\u001b[0m \u001b[0mself\u001b[0m\u001b[1;33m.\u001b[0m\u001b[0mMAX\u001b[0m \u001b[1;31m#return the module of the array size\u001b[0m\u001b[1;33m\u001b[0m\u001b[1;33m\u001b[0m\u001b[0m\n\u001b[0;32m     11\u001b[0m \u001b[1;33m\u001b[0m\u001b[0m\n",
      "\u001b[1;31mTypeError\u001b[0m: ord() expected a character, but string of length 7 found"
     ]
    }
   ],
   "source": [
    "t[\"march 6\"]= 120\n",
    "t[\"march 8\"]=78\n",
    "t[\"march 9\"]=4"
   ]
  },
  {
   "cell_type": "code",
   "execution_count": null,
   "metadata": {},
   "outputs": [],
   "source": []
  }
 ],
 "metadata": {
  "kernelspec": {
   "display_name": "Python 3",
   "language": "python",
   "name": "python3"
  },
  "language_info": {
   "codemirror_mode": {
    "name": "ipython",
    "version": 3
   },
   "file_extension": ".py",
   "mimetype": "text/x-python",
   "name": "python",
   "nbconvert_exporter": "python",
   "pygments_lexer": "ipython3",
   "version": "3.7.6"
  }
 },
 "nbformat": 4,
 "nbformat_minor": 4
}
