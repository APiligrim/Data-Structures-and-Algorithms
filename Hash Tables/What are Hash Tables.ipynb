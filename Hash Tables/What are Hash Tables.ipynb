{
 "cells": [
  {
   "cell_type": "markdown",
   "metadata": {},
   "source": [
    "# What are Hash Tables\n",
    "\n",
    "### Hash tables: Key => value lookup\n",
    "Python uses hash tables for dictionaries and sets. \n",
    "\n",
    "A **hash table** is an unordered collection of key-value pairs, where each key is unique. Hash tables offer a combination of efficient lookup, insert and delete operations. These are the best properties of arrays and linked lists.\n",
    "\n",
    "They have keys that go through **Hash Functions** that get converted to a value and get stored in the data.\n",
    "\n",
    "### Hash Functions :\n",
    "They are like a \"black box\". They generate fixed length for each input that it gets.They are able to convert input into keys or values that are unique. There are many tupes of hash functions. \n",
    "### Pros of Hash tables:\n",
    "- fast access\n",
    "- flexible keys\n",
    "- fast insert   \n",
    "### Cons of Hash tables:   \n",
    "- increased memory\n",
    "- unordered\n",
    "![]( https://upload.wikimedia.org/wikipedia/commons/thumb/9/98/DHT_en.svg/500px-DHT_en.svg.png)\n",
    "\n",
    "### Big O Time & Space\n",
    "![](https://miro.medium.com/max/1454/1*tZTBNiohFo9EJLqz2Nv9Yg.png)"
   ]
  },
  {
   "cell_type": "markdown",
   "metadata": {},
   "source": [
    "# Challenges with Hash Tables\n",
    "\n",
    "### Collisions\n",
    "For example: Insert the name and phone number in the same bucket for 2 or more people.\n",
    "\n",
    "When there is a collision, to access the data, your program will slow down \n",
    "***BIG O: (n/k) ** where k is the size of the hash table***\n",
    "\n",
    "![](https://upload.wikimedia.org/wikipedia/commons/thumb/d/d0/Hash_table_5_0_1_1_1_1_1_LL.svg/450px-Hash_table_5_0_1_1_1_1_1_LL.svg.png)\n",
    "\n",
    "### How to deal with Collisions\n",
    "1. Linked Lists\n",
    "2. Open Addressing\n",
    "3. Robbinhood hashing\n"
   ]
  },
  {
   "cell_type": "markdown",
   "metadata": {},
   "source": [
    "# Other Features of Hash Tables\n",
    "\n",
    "### Map()\n",
    "A map allows you to save any data type as the key(different from an object). Maps also maintain the order which is different from an object which has no order.\n",
    "\n",
    "### Sets()\n",
    "Only stores keys not values.\n",
    "\n",
    "### Hash Tables can be declared as dictionaries:\n",
    "https://softwaremaniacs.org/blog/2020/02/05/dicts-ordered/en/\n",
    "\n",
    "A map is an associate container mapping from a key to a value. A map can be implemented in many ways - binary tree, hash table, or even a continuoous array storing the key/value \n",
    "\n",
    "### dictionaries are specific implementations in python forhashtables and hashmap (which are the same)!!!\n",
    "- you can use string index in the hashmap and hashtable \n",
    "\n",
    "You can use different type of hash function "
   ]
  },
  {
   "cell_type": "markdown",
   "metadata": {},
   "source": [
    "# Look up o(1) \n",
    "# fast insertion o(1)\n",
    "# delete o(1) "
   ]
  },
  {
   "cell_type": "code",
   "execution_count": null,
   "metadata": {},
   "outputs": [],
   "source": [
    "\n",
    "\n"
   ]
  }
 ],
 "metadata": {
  "kernelspec": {
   "display_name": "Python 3",
   "language": "python",
   "name": "python3"
  },
  "language_info": {
   "codemirror_mode": {
    "name": "ipython",
    "version": 3
   },
   "file_extension": ".py",
   "mimetype": "text/x-python",
   "name": "python",
   "nbconvert_exporter": "python",
   "pygments_lexer": "ipython3",
   "version": "3.7.6"
  }
 },
 "nbformat": 4,
 "nbformat_minor": 4
}
