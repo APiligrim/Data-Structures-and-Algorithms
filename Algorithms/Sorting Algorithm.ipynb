{
 "cells": [
  {
   "cell_type": "markdown",
   "metadata": {},
   "source": [
    "# Sorting Terminology\n",
    "\n",
    "## In-place Sorting \n",
    "Uses constant extra space for producing the output (modifies the given array only). It sorts the list only by modiying the order of the elements withtin the list. \n",
    "#### Examples: Insertion Sort & Selection Sort are in-place sorting algorthms\n",
    "they dont use any additional space for sorting the list and a typical implementation of Merge Sort is not in-place also the implementation for counting sort is not in-place sorting algorithm. \n",
    "\n",
    "### Insertion Sort Photo\n",
    "![](https://www.w3resource.com/w3r_images/insertion-sort.png)\n",
    "\n",
    "### Time and Space of Insertion Sort \n",
    "Worst Case: O(n^2)  \n",
    "Best Case: O(n) : if we already give the sorted array, it will still go through the for loop so O(n)\n",
    "Average Time: O(n^2)  \n",
    "Space Complexity: O(1)  "
   ]
  },
  {
   "cell_type": "code",
   "execution_count": 2,
   "metadata": {},
   "outputs": [
    {
     "name": "stdout",
     "output_type": "stream",
     "text": [
      "[14, 21, 27, 41, 43, 45, 46, 57, 70]\n"
     ]
    }
   ],
   "source": [
    "def insertionSort(nlist): \n",
    "    for index in range(1, len(nlist)): \n",
    "        currentvalue=nlist[index]\n",
    "        position=index\n",
    "        \n",
    "        while position>0 and nlist[position-1]>currentvalue: \n",
    "            nlist[position]=nlist[position-1]\n",
    "            position = position-1\n",
    "        nlist[position]=currentvalue\n",
    "        \n",
    "nlist=[14,46,43,27,57,41,45,21,70]\n",
    "insertionSort(nlist)\n",
    "print(nlist)\n"
   ]
  },
  {
   "cell_type": "markdown",
   "metadata": {},
   "source": [
    "## Inernal and External Sorting\n",
    "Internal - when all data is placed in-memory\n",
    "External - when all the data that needs to be sorted cannot be placed in-memory at a time. The sorting is called external sorting. Its mostly used for large number of data so **Merge Sort** and its variations are typically used. \n",
    "\n",
    "## Stable Sorting \n",
    "Stability is mainly important when we have key value pairs with duplicate keys possible (like people names as keys and their details as values). And we wish to sort these objects by keys"
   ]
  },
  {
   "cell_type": "code",
   "execution_count": null,
   "metadata": {},
   "outputs": [],
   "source": []
  }
 ],
 "metadata": {
  "kernelspec": {
   "display_name": "Python 3",
   "language": "python",
   "name": "python3"
  },
  "language_info": {
   "codemirror_mode": {
    "name": "ipython",
    "version": 3
   },
   "file_extension": ".py",
   "mimetype": "text/x-python",
   "name": "python",
   "nbconvert_exporter": "python",
   "pygments_lexer": "ipython3",
   "version": "3.7.6"
  }
 },
 "nbformat": 4,
 "nbformat_minor": 4
}
