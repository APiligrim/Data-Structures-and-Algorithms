{
 "cells": [
  {
   "cell_type": "markdown",
   "metadata": {},
   "source": [
    "# Problem1: First Unique Character in a String\n",
    "Given a string, find the first non-repeating character in it and return its index. If it doesn't exist, return -1.\n",
    "\n",
    "### Examples:\n",
    "\n",
    "s = \"leetcode\"\n",
    "return 0.\n",
    "\n",
    "s = \"loveleetcode\"\n",
    "return 2."
   ]
  },
  {
   "cell_type": "code",
   "execution_count": 1,
   "metadata": {},
   "outputs": [],
   "source": [
    "def firstUniqChar(s):\n",
    "    hashmap={}\n",
    "    \n",
    "    string=s.split"
   ]
  },
  {
   "cell_type": "code",
   "execution_count": 15,
   "metadata": {},
   "outputs": [
    {
     "name": "stdout",
     "output_type": "stream",
     "text": [
      "0\n",
      "1\n",
      "2\n",
      "3\n"
     ]
    },
    {
     "ename": "SyntaxError",
     "evalue": "'return' outside function (<ipython-input-15-90ccad1e1a78>, line 12)",
     "output_type": "error",
     "traceback": [
      "\u001b[1;36m  File \u001b[1;32m\"<ipython-input-15-90ccad1e1a78>\"\u001b[1;36m, line \u001b[1;32m12\u001b[0m\n\u001b[1;33m    return False\u001b[0m\n\u001b[1;37m                ^\u001b[0m\n\u001b[1;31mSyntaxError\u001b[0m\u001b[1;31m:\u001b[0m 'return' outside function\n"
     ]
    }
   ],
   "source": [
    "string=\"asdfsfdasd\"\n",
    "string.split()\n",
    "arr=[]\n",
    "#arr.append(string)\n",
    "test =set()\n",
    "#hashmap={}\n",
    "for i in range(len(string)):\n",
    "    #test.append(string[i])\n",
    "    if string[i] not in test:\n",
    "        print(i)\n",
    "    test.add(string[i])\n",
    "return False\n",
    "    \n",
    "    #arr.append(string[i])\n",
    "    \n",
    "print(arr)"
   ]
  },
  {
   "cell_type": "code",
   "execution_count": 16,
   "metadata": {},
   "outputs": [
    {
     "name": "stdout",
     "output_type": "stream",
     "text": [
      "None\n"
     ]
    }
   ],
   "source": [
    "def firtUniqChar(s):\n",
    "    test =set()\n",
    "    #hashmap={}\n",
    "    for i in range(0,len(s)):\n",
    "        #test.append(string[i])\n",
    "        if s[i] in test:\n",
    "            test.add(s[i])\n",
    "        elif s[i] not in test:\n",
    "            print(\"this is the num not in set\":)\n",
    "            return i\n",
    "    return -1\n",
    "print(firstUniqChar(\"loveleetcode\"))"
   ]
  },
  {
   "cell_type": "code",
   "execution_count": null,
   "metadata": {},
   "outputs": [],
   "source": [
    "def firtUniqChar(s):\n",
    "    test =set()\n",
    "    #hashmap={}\n",
    "    for i in range(0,len(s)):\n",
    "        #test.append(string[i])\n",
    "        if s[i] in test:\n",
    "            test.add(s[i])\n",
    "        elif s[i] not in test:\n",
    "            print(\"this is the num not in set\":)\n",
    "            return i\n",
    "    return -1\n",
    "print(firstUniqChar(\"loveleetcode\"))"
   ]
  }
 ],
 "metadata": {
  "kernelspec": {
   "display_name": "Python 3",
   "language": "python",
   "name": "python3"
  },
  "language_info": {
   "codemirror_mode": {
    "name": "ipython",
    "version": 3
   },
   "file_extension": ".py",
   "mimetype": "text/x-python",
   "name": "python",
   "nbconvert_exporter": "python",
   "pygments_lexer": "ipython3",
   "version": "3.7.6"
  }
 },
 "nbformat": 4,
 "nbformat_minor": 4
}
