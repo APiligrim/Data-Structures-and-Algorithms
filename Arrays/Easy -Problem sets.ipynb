{
 "cells": [
  {
   "cell_type": "markdown",
   "metadata": {},
   "source": [
    "### Problem 1: Find a median number in an unsorted odd array list "
   ]
  },
  {
   "cell_type": "code",
   "execution_count": 8,
   "metadata": {},
   "outputs": [
    {
     "data": {
      "text/plain": [
       "3"
      ]
     },
     "execution_count": 8,
     "metadata": {},
     "output_type": "execute_result"
    }
   ],
   "source": [
    "def sorted_arr(arr):\n",
    "    #strategy 2 pointers technique \n",
    "    # one going forwards while the other iterates from the end\n",
    "    arr1= sorted(arr)\n",
    "    \n",
    "    start=0\n",
    "    end=len(arr1)-1 # the end pointer starts from the last index\n",
    "    while start<end: \n",
    "        start+=1\n",
    "        end-=1\n",
    "        if start==end: \n",
    "            return arr1[start]\n",
    "arr=[1,3,4,5,2]\n",
    "\n",
    "sorted_arr(arr)"
   ]
  },
  {
   "cell_type": "markdown",
   "metadata": {},
   "source": [
    "# Meeting Rooms \n",
    "\n",
    "Given an array of meeting time intervals where intervals [i] = [start, end] determine if a person could attend all the meetings.\n",
    "\n",
    "input: intervals=[[0,30], [5,10], [15,20]]   \n",
    "output: false    \n",
    " "
   ]
  },
  {
   "cell_type": "code",
   "execution_count": 21,
   "metadata": {},
   "outputs": [
    {
     "ename": "SyntaxError",
     "evalue": "'return' outside function (<ipython-input-21-34b5c8c58bc5>, line 8)",
     "output_type": "error",
     "traceback": [
      "\u001b[1;36m  File \u001b[1;32m\"<ipython-input-21-34b5c8c58bc5>\"\u001b[1;36m, line \u001b[1;32m8\u001b[0m\n\u001b[1;33m    return False\u001b[0m\n\u001b[1;37m    ^\u001b[0m\n\u001b[1;31mSyntaxError\u001b[0m\u001b[1;31m:\u001b[0m 'return' outside function\n"
     ]
    }
   ],
   "source": [
    "intervals=[[0,30],[15,20], [5,10]]\n",
    "\n",
    "intervals.sort()\n",
    "for i in range(len(intervals)-1):\n",
    "    #if the end time for the first array is greater than the start time of the second array\n",
    "    #then the person will not make it to the 2nd meeting\n",
    "    if intervals[i][1]>intervals[i+2][0]:\n",
    "        return False\n",
    "return True\n",
    "        "
   ]
  },
  {
   "cell_type": "code",
   "execution_count": null,
   "metadata": {},
   "outputs": [],
   "source": []
  }
 ],
 "metadata": {
  "kernelspec": {
   "display_name": "Python 3",
   "language": "python",
   "name": "python3"
  },
  "language_info": {
   "codemirror_mode": {
    "name": "ipython",
    "version": 3
   },
   "file_extension": ".py",
   "mimetype": "text/x-python",
   "name": "python",
   "nbconvert_exporter": "python",
   "pygments_lexer": "ipython3",
   "version": "3.7.6"
  }
 },
 "nbformat": 4,
 "nbformat_minor": 4
}
