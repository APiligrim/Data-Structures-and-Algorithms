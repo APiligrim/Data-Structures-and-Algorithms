{
 "cells": [
  {
   "cell_type": "markdown",
   "metadata": {},
   "source": [
    "### Problem 1: Find a median number in an unsorted odd array list "
   ]
  },
  {
   "cell_type": "code",
   "execution_count": 8,
   "metadata": {},
   "outputs": [
    {
     "data": {
      "text/plain": [
       "3"
      ]
     },
     "execution_count": 8,
     "metadata": {},
     "output_type": "execute_result"
    }
   ],
   "source": [
    "def sorted_arr(arr):\n",
    "    #strategy 2 pointers technique \n",
    "    # one going forwards while the other iterates from the end\n",
    "    arr1= sorted(arr)\n",
    "    \n",
    "    start=0\n",
    "    end=len(arr1)-1 # the end pointer starts from the last index\n",
    "    while start<end: \n",
    "        start+=1\n",
    "        end-=1\n",
    "        if start==end: \n",
    "            return arr1[start]\n",
    "arr=[1,3,4,5,2]\n",
    "\n",
    "sorted_arr(arr)"
   ]
  },
  {
   "cell_type": "code",
   "execution_count": null,
   "metadata": {},
   "outputs": [],
   "source": []
  }
 ],
 "metadata": {
  "kernelspec": {
   "display_name": "Python 3",
   "language": "python",
   "name": "python3"
  },
  "language_info": {
   "codemirror_mode": {
    "name": "ipython",
    "version": 3
   },
   "file_extension": ".py",
   "mimetype": "text/x-python",
   "name": "python",
   "nbconvert_exporter": "python",
   "pygments_lexer": "ipython3",
   "version": "3.7.6"
  }
 },
 "nbformat": 4,
 "nbformat_minor": 4
}
