{
 "cells": [
  {
   "cell_type": "markdown",
   "metadata": {},
   "source": [
    "# Problem 1: Two Sum \n",
    "Given an array of integers nums and an integer target, return indices of the two numbers such that they add up to target.\n",
    "\n",
    "You may assume that each input would have exactly one solution, and you may not use the same element twice.\n",
    "\n",
    "You can return the answer in any order.\n",
    "\n",
    "**Example 1:**   \n",
    "Input: nums = [2,7,11,15], target = 9  \n",
    "Output: [0,1]   \n",
    "Output: Because nums[0] + nums[1] == 9, we return [0, 1].   \n",
    "\n",
    "**Example 2:**     \n",
    "\n",
    "Input: nums = [3,2,4], target = 6   \n",
    "Output: [1,2]    \n",
    "\n",
    "\n",
    "**Example 3:**   \n",
    "Input: nums = [3,3], target = 6   \n",
    "Output: [0,1]  "
   ]
  },
  {
   "cell_type": "code",
   "execution_count": 2,
   "metadata": {},
   "outputs": [
    {
     "name": "stdout",
     "output_type": "stream",
     "text": [
      "[1, 2]\n"
     ]
    }
   ],
   "source": [
    "#brute force - iterate through each index of an array and see if the sum of the neearest index = target\n",
    "# BIG O(n^2) - not efficient at all\n",
    "def arrays(nums, target):\n",
    "    for i in range(len(nums)):\n",
    "        for j in range(len(nums)):\n",
    "            if nums[i] + nums[j] == target:\n",
    "                return [nums[i], nums[j]]\n",
    "    else:\n",
    "        return []\n",
    "        \n",
    "#test case 1\n",
    "numbers=[1,2,4,6]\n",
    "#test case 2 \n",
    "#numbers2=[1]\n",
    "target1= 3\n",
    "\n",
    "print(arrays(numbers, target1))\n",
    "#print(arrays(numbers2, target1))"
   ]
  },
  {
   "cell_type": "code",
   "execution_count": 19,
   "metadata": {},
   "outputs": [
    {
     "name": "stdout",
     "output_type": "stream",
     "text": [
      "[0, 1]\n"
     ]
    }
   ],
   "source": [
    "#Better solution 1 - use hash tables \n",
    "#find the difference between the target value and the indexed value \n",
    "#if this difference is in the hash table, then return the 2 indexes \n",
    "def arrays(nums, target):\n",
    "    h_table = {}\n",
    "    for index in range(len(nums)):\n",
    "        diff = target - nums[index]\n",
    "        if diff in h_table and h_table[index] !=index:\n",
    "            return [h_table[diff], index]\n",
    "        else: \n",
    "            h_table[nums[index]] =index\n",
    "        \n",
    "            \n",
    "#test case 1\n",
    "numbers=[1,2,4,6]\n",
    "#test case 2 \n",
    "#numbers2=[1]\n",
    "target1= 3\n",
    "\n",
    "print(arrays(numbers, target1))    \n",
    "    "
   ]
  },
  {
   "cell_type": "markdown",
   "metadata": {},
   "source": [
    "# Problem 2: Largest Sum\n",
    "\n",
    "Given an integer array nums, find the contiguous subarray (containing at least one number) which has the largest sum and return its sum.\n",
    "\n",
    "**Example:**\n",
    "\n",
    "Input: [-2,1,-3,4,-1,2,1,-5,4],\n",
    "Output: 6\n",
    "Explanation: [4,-1,2,1] has the largest sum = 6.\n",
    "Follow up:\n",
    "\n",
    "If you have figured out the O(n) solution, try coding another solution using the divide and conquer approach, which is more subtle."
   ]
  },
  {
   "cell_type": "code",
   "execution_count": null,
   "metadata": {},
   "outputs": [],
   "source": [
    "#input: arr of ints\n",
    "#output : largest sum int\n",
    "\n",
    "#are the numbers sorted? \n",
    "#how long does the continuous sub array have to be? \n",
    "#is the array constant? Can we rotate it? \n",
    "\n",
    "#brute force: rotate the array\n",
    "#check the input\n",
    "#step 1: iterate through the 4 numbers int the array \n",
    "#find their sum \n",
    "#step 2: shift all nums by +1 index \n",
    "#find their sum \n",
    "#step 3: shift again by +1 index and find the sum again etc.\n",
    "#step 4: return max sum : return max(sum)\n",
    "\n",
    "#solution 2\n",
    "#check the input\n",
    "#if we cant roate the array:\n",
    "#sum index: 0,1,2,3\n",
    "#sum index: 1,2,3,4\n",
    "#sum index: 2,3,4,5\n",
    "#sum index: 3,4,5,6"
   ]
  },
  {
   "cell_type": "markdown",
   "metadata": {},
   "source": []
  },
  {
   "cell_type": "markdown",
   "metadata": {},
   "source": [
    "# Problem 3: Move Zeros"
   ]
  },
  {
   "cell_type": "markdown",
   "metadata": {},
   "source": [
    "# Problem 4: Contains Douplicates"
   ]
  },
  {
   "cell_type": "markdown",
   "metadata": {},
   "source": [
    "# Problem 5: Rotate Array"
   ]
  },
  {
   "cell_type": "code",
   "execution_count": null,
   "metadata": {},
   "outputs": [],
   "source": []
  }
 ],
 "metadata": {
  "kernelspec": {
   "display_name": "Python 3",
   "language": "python",
   "name": "python3"
  },
  "language_info": {
   "codemirror_mode": {
    "name": "ipython",
    "version": 3
   },
   "file_extension": ".py",
   "mimetype": "text/x-python",
   "name": "python",
   "nbconvert_exporter": "python",
   "pygments_lexer": "ipython3",
   "version": "3.7.6"
  }
 },
 "nbformat": 4,
 "nbformat_minor": 4
}
