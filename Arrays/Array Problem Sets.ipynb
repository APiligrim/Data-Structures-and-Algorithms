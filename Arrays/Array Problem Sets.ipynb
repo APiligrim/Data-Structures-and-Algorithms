{
 "cells": [
  {
   "cell_type": "markdown",
   "metadata": {},
   "source": [
    "# Problem 1: Two Sum \n",
    "Given an array of integers nums and an integer target, return indices of the two numbers such that they add up to target.\n",
    "\n",
    "You may assume that each input would have exactly one solution, and you may not use the same element twice.\n",
    "\n",
    "You can return the answer in any order.\n",
    "\n",
    "**Example 1:**   \n",
    "Input: nums = [2,7,11,15], target = 9  \n",
    "Output: [0,1]   \n",
    "Output: Because nums[0] + nums[1] == 9, we return [0, 1].   \n",
    "\n",
    "**Example 2:**     \n",
    "\n",
    "Input: nums = [3,2,4], target = 6   \n",
    "Output: [1,2]    \n",
    "\n",
    "\n",
    "**Example 3:**   \n",
    "Input: nums = [3,3], target = 6   \n",
    "Output: [0,1]  "
   ]
  },
  {
   "cell_type": "code",
   "execution_count": null,
   "metadata": {},
   "outputs": [],
   "source": []
  },
  {
   "cell_type": "code",
   "execution_count": 1,
   "metadata": {},
   "outputs": [
    {
     "ename": "IndentationError",
     "evalue": "expected an indented block (<ipython-input-1-22fc2f023f2e>, line 3)",
     "output_type": "error",
     "traceback": [
      "\u001b[1;36m  File \u001b[1;32m\"<ipython-input-1-22fc2f023f2e>\"\u001b[1;36m, line \u001b[1;32m3\u001b[0m\n\u001b[1;33m    numbers=[1,2,4,6]\u001b[0m\n\u001b[1;37m          ^\u001b[0m\n\u001b[1;31mIndentationError\u001b[0m\u001b[1;31m:\u001b[0m expected an indented block\n"
     ]
    }
   ],
   "source": [
    "def arrays(nums, target):\n",
    "    for index in nums:\n",
    "        sum1= nums[index] + nums[index+1]\n",
    "            if  sum1 == target:\n",
    "                target_arr.append(nums[index])\n",
    "                target_arr.append(nums[index+1])\n",
    "            return target_arr\n",
    "numbers=[1,2,4,6]\n",
    "target1= 3\n",
    "print(arrays(numbers, target1))"
   ]
  },
  {
   "cell_type": "code",
   "execution_count": null,
   "metadata": {},
   "outputs": [],
   "source": []
  }
 ],
 "metadata": {
  "kernelspec": {
   "display_name": "Python 3",
   "language": "python",
   "name": "python3"
  },
  "language_info": {
   "codemirror_mode": {
    "name": "ipython",
    "version": 3
   },
   "file_extension": ".py",
   "mimetype": "text/x-python",
   "name": "python",
   "nbconvert_exporter": "python",
   "pygments_lexer": "ipython3",
   "version": "3.7.6"
  }
 },
 "nbformat": 4,
 "nbformat_minor": 4
}
