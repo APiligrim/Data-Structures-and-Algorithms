{
 "cells": [
  {
   "cell_type": "markdown",
   "metadata": {},
   "source": [
    "# Problem 1: Two Sum \n",
    "Given an array of integers nums and an integer target, return indices of the two numbers such that they add up to target.\n",
    "\n",
    "You may assume that each input would have exactly one solution, and you may not use the same element twice.\n",
    "\n",
    "You can return the answer in any order.\n",
    "\n",
    "**Example 1:**   \n",
    "Input: nums = [2,7,11,15], target = 9  \n",
    "Output: [0,1]   \n",
    "Output: Because nums[0] + nums[1] == 9, we return [0, 1].   \n",
    "\n",
    "**Example 2:**     \n",
    "\n",
    "Input: nums = [3,2,4], target = 6   \n",
    "Output: [1,2]    \n",
    "\n",
    "\n",
    "**Example 3:**   \n",
    "Input: nums = [3,3], target = 6   \n",
    "Output: [0,1]  "
   ]
  },
  {
   "cell_type": "code",
   "execution_count": 2,
   "metadata": {},
   "outputs": [
    {
     "name": "stdout",
     "output_type": "stream",
     "text": [
      "[1, 2]\n"
     ]
    }
   ],
   "source": [
    "#brute force - iterate through each index of an array and see if the sum of the neearest index = target\n",
    "# BIG O(n^2) - not efficient at all\n",
    "def arrays(nums, target):\n",
    "    for i in range(len(nums)):\n",
    "        for j in range(len(nums)):\n",
    "            if nums[i] + nums[j] == target:\n",
    "                return [nums[i], nums[j]]\n",
    "    else:\n",
    "        return []\n",
    "        \n",
    "#test case 1\n",
    "numbers=[1,2,4,6]\n",
    "#test case 2 \n",
    "#numbers2=[1]\n",
    "target1= 3\n",
    "\n",
    "print(arrays(numbers, target1))\n",
    "#print(arrays(numbers2, target1))"
   ]
  },
  {
   "cell_type": "code",
   "execution_count": 19,
   "metadata": {},
   "outputs": [
    {
     "name": "stdout",
     "output_type": "stream",
     "text": [
      "[0, 1]\n"
     ]
    }
   ],
   "source": [
    "#Better solution 1 - use hash tables \n",
    "#find the difference between the target value and the indexed value \n",
    "#if this difference is in the hash table, then return the 2 indexes \n",
    "def arrays(nums, target):\n",
    "    h_table = {}\n",
    "    for index in range(len(nums)):\n",
    "        diff = target - nums[index]\n",
    "        if diff in h_table and h_table[index] !=index:\n",
    "            return [h_table[diff], index]\n",
    "        else: \n",
    "            h_table[nums[index]] =index\n",
    "        \n",
    "            \n",
    "#test case 1\n",
    "numbers=[1,2,4,6]\n",
    "#test case 2 \n",
    "#numbers2=[1]\n",
    "target1= 3\n",
    "\n",
    "print(arrays(numbers, target1))    \n",
    "    "
   ]
  },
  {
   "cell_type": "markdown",
   "metadata": {},
   "source": [
    "# Problem 2: Largest Sum\n",
    "\n",
    "Given an integer array nums, find the contiguous subarray (containing at least one number) which has the largest sum and return its sum.\n",
    "\n",
    "**Example:**\n",
    "\n",
    "Input: [-2,1,-3,4,-1,2,1,-5,4],\n",
    "Output: 6\n",
    "Explanation: [4,-1,2,1] has the largest sum = 6.\n",
    "Follow up:\n",
    "\n",
    "If you have figured out the O(n) solution, try coding another solution using the divide and conquer approach, which is more subtle."
   ]
  },
  {
   "cell_type": "code",
   "execution_count": null,
   "metadata": {},
   "outputs": [],
   "source": [
    "#input: arr of ints\n",
    "#output : largest sum int\n",
    "\n",
    "#are the numbers sorted? \n",
    "#how long does the continuous sub array have to be? \n",
    "#is the array constant? Can we rotate it? \n",
    "\n",
    "#brute force: rotate the array\n",
    "#check the input\n",
    "#step 1: iterate through the 4 numbers int the array \n",
    "#find their sum \n",
    "#step 2: shift all nums by +1 index \n",
    "#find their sum \n",
    "#step 3: shift again by +1 index and find the sum again etc.\n",
    "#step 4: return max sum : return max(sum)\n",
    "\n",
    "#solution 2\n",
    "#check the input\n",
    "#if we cant roate the array:\n",
    "#sum index: 0,1,2,3\n",
    "#sum index: 1,2,3,4\n",
    "#sum index: 2,3,4,5\n",
    "#sum index: 3,4,5,6"
   ]
  },
  {
   "cell_type": "markdown",
   "metadata": {},
   "source": []
  },
  {
   "cell_type": "markdown",
   "metadata": {},
   "source": [
    "# Problem 3: Move Zeros"
   ]
  },
  {
   "cell_type": "markdown",
   "metadata": {},
   "source": [
    "# Problem 4: Contains Douplicates\n",
    "\n",
    "Given an array of integers, find if the array contains any duplicates.\n",
    "\n",
    "Your function should return true if any value appears at least twice in the array, and it should return false if every element is distinct.\n",
    "\n",
    "**Example 1:**\n",
    "\n",
    "Input: [1,2,3,1]\n",
    "Output: true\n",
    "Example 2:\n",
    "\n",
    "Input: [1,2,3,4]\n",
    "Output: false\n",
    "Example 3:\n",
    "\n",
    "Input: [1,1,1,3,3,4,3,2,4,2]\n",
    "Output: true"
   ]
  },
  {
   "cell_type": "code",
   "execution_count": 33,
   "metadata": {},
   "outputs": [
    {
     "name": "stdout",
     "output_type": "stream",
     "text": [
      "False\n"
     ]
    }
   ],
   "source": [
    "def containsDuplicate(nums) -> bool:\n",
    "    count=0\n",
    "    nums.sort()\n",
    "    vals=[]\n",
    "    for index in range(len(nums)):\n",
    "        #if nums[index] is unique, pass, else count +=1\n",
    "        if nums[index] == range(nums[index]+1) in nums:\n",
    "            #vals.append(nums[index])\n",
    "            count +=1\n",
    "    if count > 1:\n",
    "        return True\n",
    "    elif count <1:\n",
    "        return False\n",
    "    \n",
    "nums1=[1,1,1,3,3,4,3,2,4,2]\n",
    "print(containsDuplicate(nums1))\n",
    "#print(range(nums1[index]+1))"
   ]
  },
  {
   "cell_type": "code",
   "execution_count": 64,
   "metadata": {},
   "outputs": [
    {
     "ename": "SyntaxError",
     "evalue": "'return' outside function (<ipython-input-64-c456350680b1>, line 10)",
     "output_type": "error",
     "traceback": [
      "\u001b[1;36m  File \u001b[1;32m\"<ipython-input-64-c456350680b1>\"\u001b[1;36m, line \u001b[1;32m10\u001b[0m\n\u001b[1;33m    return False\u001b[0m\n\u001b[1;37m    ^\u001b[0m\n\u001b[1;31mSyntaxError\u001b[0m\u001b[1;31m:\u001b[0m 'return' outside function\n"
     ]
    }
   ],
   "source": [
    "nums=[1,1,1,3,3,4,3,2,4,2]\n",
    "count =0\n",
    "nums.sort()\n",
    "val=set([])\n",
    "\n",
    "for index in range(len(nums)):\n",
    "    print(nums[index],index)\n",
    "    val.add(nums[index])\n",
    "    if nums[index] != val:\n",
    "        return False\n",
    "    else:\n",
    "        return True\n",
    "    #if nums[index] == range(1,nums[index]) in nums:\n",
    "        #count +=1\n",
    "        \n",
    "print(\"Count is\",val)\n",
    "\n",
    "    #if count > 1:\n",
    "        #return True\n",
    "#return False"
   ]
  },
  {
   "cell_type": "code",
   "execution_count": 23,
   "metadata": {},
   "outputs": [],
   "source": [
    "def douplicates(arr):\n",
    "    #brute force: \n",
    "    #append the nums to an empty array 1 by 1 and if the num repreats return true, else return false\n",
    "    vals=[]\n",
    "    count =0\n",
    "    for index in range(len(arr)):\n",
    "        vals.append(arr[index])\n",
    "        if arr[index] in vals:\n",
    "            count +=1\n",
    "            \n",
    "        if count > 1:\n",
    "            return True\n",
    "        else:\n",
    "            return False\n",
    "    \n",
    "    \n",
    "    \n",
    "    \n",
    "    #antoher way is to store nums in hash table and check for the same number \n",
    "    #if num in hash map: return False , else: return True\n",
    "    \n",
    "    #h_table={}\n",
    "    \n",
    "    #for index in range(len(arr)):\n",
    "        #nums = map(arr)\n",
    "        #if \n",
    "        \n",
    "douplicates\n",
    "array=[1,2,4,1]\n"
   ]
  },
  {
   "cell_type": "markdown",
   "metadata": {},
   "source": [
    "# Problem 5: Rotate Array"
   ]
  },
  {
   "cell_type": "code",
   "execution_count": null,
   "metadata": {},
   "outputs": [],
   "source": []
  },
  {
   "cell_type": "markdown",
   "metadata": {},
   "source": [
    "# Problem 6: Longest Word\n",
    "\n",
    "Have the function LongestWord(sen) take the sen parameter being passed and return the largest word in the string. If there are two or more words that are the same length, return the first word from the string with that length. Ignore punctuation and assume sen will not be empty.\n",
    "\n",
    "### Examples\n",
    "Input: \"fun&!! time\"   \n",
    "Output: time   \n",
    "\n",
    "Input: \"I love dogs\"   \n",
    "Output: love   \n"
   ]
  },
  {
   "cell_type": "code",
   "execution_count": 20,
   "metadata": {},
   "outputs": [
    {
     "name": "stdout",
     "output_type": "stream",
     "text": [
      "hello\n"
     ]
    }
   ],
   "source": [
    "def LongestWord(sen):\n",
    "\n",
    "  # code goes here\n",
    "  #input: string of words\n",
    "  #output: string\n",
    "  #goal: save time to find the string, also space \n",
    "  #ignore punctuation\n",
    "  #if >=2 words, return 1st word\n",
    "\n",
    "    #Approach\n",
    "    #Split the input string using the split() function.\n",
    "    #return the max word (by length)\n",
    "    \n",
    "    word = sen.split() # split the input into separate words\n",
    "    long_word = max(word, key=len)\n",
    "    return long_word\n",
    "    \n",
    "       \n",
    "\n",
    "# keep this function call here \n",
    "print(LongestWord(\"hello hi\"))\n"
   ]
  },
  {
   "cell_type": "markdown",
   "metadata": {},
   "source": [
    "# Problem 7: Reverse an Array of Integers\n",
    "\n",
    "Input: arr=[1,2,3]      \n",
    "Output: arr=[3,2,1]         "
   ]
  },
  {
   "cell_type": "code",
   "execution_count": 1,
   "metadata": {},
   "outputs": [
    {
     "name": "stdout",
     "output_type": "stream",
     "text": [
      "[8, 4, 3, 2]\n"
     ]
    }
   ],
   "source": [
    "# Complete the reverseArray function below.\n",
    "def reverseArray(a):\n",
    "    \n",
    "    #slice in the opposite way which reverses the array\n",
    "    reverse = a[::-1]\n",
    "    return reverse\n",
    "input1=[2,3,4,8]\n",
    "print(reverseArray(input1))"
   ]
  },
  {
   "cell_type": "code",
   "execution_count": null,
   "metadata": {},
   "outputs": [],
   "source": []
  }
 ],
 "metadata": {
  "kernelspec": {
   "display_name": "Python 3",
   "language": "python",
   "name": "python3"
  },
  "language_info": {
   "codemirror_mode": {
    "name": "ipython",
    "version": 3
   },
   "file_extension": ".py",
   "mimetype": "text/x-python",
   "name": "python",
   "nbconvert_exporter": "python",
   "pygments_lexer": "ipython3",
   "version": "3.7.3"
  }
 },
 "nbformat": 4,
 "nbformat_minor": 4
}
