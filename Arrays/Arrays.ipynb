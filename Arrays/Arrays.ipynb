{
 "cells": [
  {
   "cell_type": "markdown",
   "metadata": {},
   "source": [
    "# Different Operations that can be done with Data Structures\n",
    "\n",
    "### 1. Insert\n",
    "### 2. Delete\n",
    "### 3. Traversal \n",
    "### 4. Searching\n",
    "### 5. Sorting\n",
    "### 6. Accessing \n",
    "\n",
    "Each of them have their own Big O number and tkae up their own space"
   ]
  },
  {
   "cell_type": "markdown",
   "metadata": {},
   "source": [
    "# Array \n",
    "### most simple data Structure (least amount or rules)\n",
    "Best choice for going over data also it has the following methods:\n",
    "\n",
    "1. Append /Push - adds an element to the array\n",
    "2. Insert(0,\"x\") - add an elem. to an array\n",
    "3. Delete /Pop - remove last elem from the array\n",
    "4. lookup -o(1)\n"
   ]
  },
  {
   "cell_type": "code",
   "execution_count": 21,
   "metadata": {},
   "outputs": [
    {
     "data": {
      "text/plain": [
       "['a', 'b', 'c', 'd', 'e']"
      ]
     },
     "execution_count": 21,
     "metadata": {},
     "output_type": "execute_result"
    }
   ],
   "source": [
    "#look up a value \n",
    "strings =['a','b','c','d']\n",
    "strings[2]\n",
    "\n",
    "#4 variables *4 bytes each = 16 bytes of storage\n",
    "strings.append('e') #O(1) - we are adding an element to the end (not looping through anything)\n",
    "strings"
   ]
  },
  {
   "cell_type": "code",
   "execution_count": 8,
   "metadata": {},
   "outputs": [
    {
     "data": {
      "text/plain": [
       "['a', 'b', 'c']"
      ]
     },
     "execution_count": 8,
     "metadata": {},
     "output_type": "execute_result"
    }
   ],
   "source": [
    "#pop - remove \n",
    "strings.pop() #remove the variable O(1) bc. we just remove the last item\n",
    "strings\n"
   ]
  },
  {
   "cell_type": "code",
   "execution_count": 19,
   "metadata": {},
   "outputs": [
    {
     "data": {
      "text/plain": [
       "['alien', 'x', 'x', 'x', 'x', 'x', 'x', 'a', 'b', 'c']"
      ]
     },
     "execution_count": 19,
     "metadata": {},
     "output_type": "execute_result"
    }
   ],
   "source": [
    "#Insert \n",
    "strings.insert(0,'alien') #O(n) becasue we have to re-assign the indexes depending on the size of the array\n",
    "strings"
   ]
  },
  {
   "cell_type": "markdown",
   "metadata": {},
   "source": [
    "# Static vs. Dynamic Array\n",
    "### Static : require to say ahead of time how much space to occupy\n",
    "### Dynamic Array : can copy the array and paste it with new items into a new array\n",
    "\n"
   ]
  },
  {
   "cell_type": "code",
   "execution_count": 24,
   "metadata": {},
   "outputs": [
    {
     "data": {
      "text/plain": [
       "True"
      ]
     },
     "execution_count": 24,
     "metadata": {},
     "output_type": "execute_result"
    }
   ],
   "source": [
    "#reference type - non primitive type - they are created by the programer \n",
    "object1=[1]\n",
    "object2=object1\n",
    "object1==object2\n",
    "\n",
    "\n",
    "#context\n",
    "def newfunction(a):\n",
    "    a = 30\n",
    "#context tells us where we are within the object ex: accessing an element in a function\n",
    "\n"
   ]
  },
  {
   "cell_type": "code",
   "execution_count": 82,
   "metadata": {},
   "outputs": [
    {
     "name": "stdout",
     "output_type": "stream",
     "text": [
      "Hi I am Shelly Im a Healer\n",
      "Hi I am Shawn Im a Magician\n"
     ]
    }
   ],
   "source": [
    "#instantiation - when you make a copy of the object and expand the code (reuse functions)\n",
    "class Player:\n",
    "    def __init__(self, name, types):\n",
    "        #print('player', self)\n",
    "        self.name = name\n",
    "        self.type = types\n",
    "    def introduce(self):\n",
    "        print('Hi I am '+self.name +\"Im a \"+self.types) \n",
    "    \n",
    "class Wizard(Player):\n",
    "    def __init__(self, name, types):\n",
    "        self.name=name #when reusing the super class, name sure to do self.name and self.type again!\n",
    "        self.types=types\n",
    "        super().__init__(self.name, self.types)\n",
    "        \n",
    "    def play(self):\n",
    "        print(\"WEEE Im a \" +super().types())\n",
    "\n",
    "wizard1= Wizard(\"Shelly \",\"Healer\")\n",
    "wizard2= Wizard(\"Shawn \", \"Magician\")\n",
    "#wizard1.play()\n",
    "wizard1.introduce()\n",
    "wizard2.introduce()\n",
    "\n",
    "#tutorial on classes:https://realpython.com/python-super/"
   ]
  },
  {
   "cell_type": "markdown",
   "metadata": {},
   "source": [
    "# Implementing an Array"
   ]
  },
  {
   "cell_type": "code",
   "execution_count": null,
   "metadata": {},
   "outputs": [],
   "source": [
    "class MyArray:\n",
    "    def __init__(self, length, data):\n",
    "        self.length=0\n",
    "        self.data={}\n",
    "    "
   ]
  }
 ],
 "metadata": {
  "kernelspec": {
   "display_name": "Python 3",
   "language": "python",
   "name": "python3"
  },
  "language_info": {
   "codemirror_mode": {
    "name": "ipython",
    "version": 3
   },
   "file_extension": ".py",
   "mimetype": "text/x-python",
   "name": "python",
   "nbconvert_exporter": "python",
   "pygments_lexer": "ipython3",
   "version": "3.7.6"
  }
 },
 "nbformat": 4,
 "nbformat_minor": 4
}
