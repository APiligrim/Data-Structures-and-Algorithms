{
 "cells": [
  {
   "cell_type": "markdown",
   "metadata": {},
   "source": [
    "# Different Operations that can be done with Data Structures\n",
    "\n",
    "### 1. Insert\n",
    "### 2. Delete\n",
    "### 3. Traversal \n",
    "### 4. Searching\n",
    "### 5. Sorting\n",
    "### 6. Accessing \n",
    "\n",
    "Each of them have their own Big O number and tkae up their own space"
   ]
  },
  {
   "cell_type": "markdown",
   "metadata": {},
   "source": [
    "# Array \n",
    "### most simple data Structure (least amount or rules)\n",
    "Best choice for going over data also it has the following methods:\n",
    "\n",
    "1. Append /Push - adds an element to the array\n",
    "2. Insert(0,\"x\") - add an elem. to an array\n",
    "3. Delete /Pop - remove last elem from the array\n",
    "4. lookup -o(1)\n"
   ]
  },
  {
   "cell_type": "code",
   "execution_count": 21,
   "metadata": {},
   "outputs": [
    {
     "data": {
      "text/plain": [
       "['a', 'b', 'c', 'd', 'e']"
      ]
     },
     "execution_count": 21,
     "metadata": {},
     "output_type": "execute_result"
    }
   ],
   "source": [
    "#look up a value \n",
    "strings =['a','b','c','d']\n",
    "strings[2]\n",
    "\n",
    "#4 variables *4 bytes each = 16 bytes of storage\n",
    "strings.append('e') #O(1) - we are adding an element to the end (not looping through anything)\n",
    "strings"
   ]
  },
  {
   "cell_type": "code",
   "execution_count": 8,
   "metadata": {},
   "outputs": [
    {
     "data": {
      "text/plain": [
       "['a', 'b', 'c']"
      ]
     },
     "execution_count": 8,
     "metadata": {},
     "output_type": "execute_result"
    }
   ],
   "source": [
    "#pop - remove \n",
    "strings.pop() #remove the variable O(1) bc. we just remove the last item\n",
    "strings\n"
   ]
  },
  {
   "cell_type": "code",
   "execution_count": 19,
   "metadata": {},
   "outputs": [
    {
     "data": {
      "text/plain": [
       "['alien', 'x', 'x', 'x', 'x', 'x', 'x', 'a', 'b', 'c']"
      ]
     },
     "execution_count": 19,
     "metadata": {},
     "output_type": "execute_result"
    }
   ],
   "source": [
    "#Insert \n",
    "strings.insert(0,'alien') #O(n) becasue we have to re-assign the indexes depending on the size of the array\n",
    "strings"
   ]
  },
  {
   "cell_type": "markdown",
   "metadata": {},
   "source": [
    "# Static vs. Dynamic Array\n",
    "### Static : require to say ahead of time how much space to occupy\n",
    "### Dynamic Array : can copy the array and paste it with new items into a new array\n",
    "\n"
   ]
  },
  {
   "cell_type": "code",
   "execution_count": 24,
   "metadata": {},
   "outputs": [
    {
     "data": {
      "text/plain": [
       "True"
      ]
     },
     "execution_count": 24,
     "metadata": {},
     "output_type": "execute_result"
    }
   ],
   "source": [
    "#reference type - non primitive type - they are created by the programer \n",
    "object1=[1]\n",
    "object2=object1\n",
    "object1==object2\n",
    "\n",
    "\n",
    "#context\n",
    "def newfunction(a):\n",
    "    a = 30\n",
    "#context tells us where we are within the object ex: accessing an element in a function\n",
    "\n"
   ]
  },
  {
   "cell_type": "code",
   "execution_count": 82,
   "metadata": {},
   "outputs": [
    {
     "name": "stdout",
     "output_type": "stream",
     "text": [
      "Hi I am Shelly Im a Healer\n",
      "Hi I am Shawn Im a Magician\n"
     ]
    }
   ],
   "source": [
    "#instantiation - when you make a copy of the object and expand the code (reuse functions)\n",
    "class Player:\n",
    "    def __init__(self, name, types):\n",
    "        #print('player', self)\n",
    "        self.name = name\n",
    "        self.type = types\n",
    "    def introduce(self):\n",
    "        print('Hi I am '+self.name +\"Im a \"+self.types) \n",
    "    \n",
    "class Wizard(Player):\n",
    "    def __init__(self, name, types):\n",
    "        self.name=name #when reusing the super class, name sure to do self.name and self.type again!\n",
    "        self.types=types\n",
    "        super().__init__(self.name, self.types)\n",
    "        \n",
    "    def play(self):\n",
    "        print(\"WEEE Im a \" +super().types())\n",
    "\n",
    "wizard1= Wizard(\"Shelly \",\"Healer\")\n",
    "wizard2= Wizard(\"Shawn \", \"Magician\")\n",
    "#wizard1.play()\n",
    "wizard1.introduce()\n",
    "wizard2.introduce()\n",
    "\n",
    "#tutorial on classes:https://realpython.com/python-super/"
   ]
  },
  {
   "cell_type": "markdown",
   "metadata": {},
   "source": [
    "# Implementing an Array"
   ]
  },
  {
   "cell_type": "code",
   "execution_count": 26,
   "metadata": {},
   "outputs": [
    {
     "data": {
      "text/plain": [
       "<__main__.MyArray at 0x296771c1ec8>"
      ]
     },
     "execution_count": 26,
     "metadata": {},
     "output_type": "execute_result"
    }
   ],
   "source": [
    "# using a list \n",
    "class MyArray:\n",
    "  def __init__(self):\n",
    "    self.length=0\n",
    "    self.data=[]\n",
    "\n",
    "  def get(self,index):\n",
    "    return self.data[index]\n",
    "\n",
    "  def push(self,item):\n",
    "    self.data.append(item)\n",
    "    self.length+=1\n",
    "\n",
    "  def pop(self):\n",
    "    return self.data.pop()\n",
    "\n",
    "  def delete(self,index):\n",
    "    self.data.remove(self.get(index))\n",
    "    return self.data\n",
    "        \n",
    "array = MyArray()\n",
    "array.push(3)\n",
    "array.push('hi')\n",
    "array.push(34)\n",
    "array.push(20)\n",
    "array.push('hey')\n",
    "array.push('welcome')"
   ]
  },
  {
   "cell_type": "code",
   "execution_count": 28,
   "metadata": {},
   "outputs": [
    {
     "name": "stdout",
     "output_type": "stream",
     "text": [
      "{'length': 5, 'data': {0: 3, 1: 'hi', 2: 34, 3: 'hey', 4: 'welcome'}}\n"
     ]
    }
   ],
   "source": [
    "#using a dictionary\n",
    "class Array:\n",
    "  def __init__(self):\n",
    "    self.length=0\n",
    "    self.data={}\n",
    "\n",
    "  def __str__(self):\n",
    "    return str(self.__dict__)\n",
    "\n",
    "  def get(self,index): #get an item from an array\n",
    "    return self.data[index]\n",
    "  \n",
    "  def push(self,item):\n",
    "    self.data[self.length]=item #add an item to the array\n",
    "    self.length+=1\n",
    "\n",
    "  def pop(self):\n",
    "    lastitem = self.data[self.length-1] #delete the last item from dictionary\n",
    "    del self.data[self.length-1]\n",
    "    self.length-=1\n",
    "    return lastitem\n",
    "\n",
    "  def delete(self,index): #delete an item from the array              \n",
    "    deleteditem = self.data[index]\n",
    "    for i in range(index,self.length-1):\n",
    "      self.data[i] = self.data[i+1] #after the element is found, stop the loop\n",
    "\n",
    "    del self.data[self.length-1]\n",
    "    self.length-=1\n",
    "    return deleteditem\n",
    "\n",
    "arr=Array()\n",
    "arr.push(3)\n",
    "arr.push('hi')\n",
    "arr.push(34)\n",
    "arr.push(20) # this item will later be removed\n",
    "arr.push('hey')\n",
    "arr.push('welcome')\n",
    "arr.delete(3)\n",
    "print(arr)"
   ]
  },
  {
   "cell_type": "code",
   "execution_count": null,
   "metadata": {},
   "outputs": [],
   "source": [
    "# String Question? Treat any String as an Array Question \n",
    "You would be manipulating strings "
   ]
  }
 ],
 "metadata": {
  "kernelspec": {
   "display_name": "Python 3",
   "language": "python",
   "name": "python3"
  },
  "language_info": {
   "codemirror_mode": {
    "name": "ipython",
    "version": 3
   },
   "file_extension": ".py",
   "mimetype": "text/x-python",
   "name": "python",
   "nbconvert_exporter": "python",
   "pygments_lexer": "ipython3",
   "version": "3.7.6"
  }
 },
 "nbformat": 4,
 "nbformat_minor": 4
}
